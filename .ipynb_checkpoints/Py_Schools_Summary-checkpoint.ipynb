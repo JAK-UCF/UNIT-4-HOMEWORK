{
 "cells": [
  {
   "cell_type": "markdown",
   "metadata": {},
   "source": [
    "You've been asked to analyze the district-wide standardized test results. You'll be given access to every student's math and reading scores, as well as various information on the schools they attend. Your responsibility is to aggregate the data to and showcase obvious trends in school performance.\n",
    "\n",
    "##### Your final report should include each of the following:"
   ]
  },
  {
   "cell_type": "markdown",
   "metadata": {},
   "source": [
    "### District Summary\n",
    "- Create a high level snapshot (in table form) of the district's key metrics, including:\n",
    "    * Total Schools\n",
    "    * Total Students\n",
    "    * Total Budget\n",
    "    * Average Math Score\n",
    "    * Average Reading Score\n",
    "    * % Passing Math\n",
    "    * % Passing Reading\n",
    "    * Overall Passing Rate (Average of Math & Reading)"
   ]
  },
  {
   "cell_type": "markdown",
   "metadata": {},
   "source": [
    "### School Summary\n",
    "- Create an overview table that summarizes key metrics about each school, including:\n",
    "    * School Name\n",
    "    * School Type\n",
    "    * Total Students\n",
    "    * Total School Budget\n",
    "    * Per Student Budget\n",
    "    * Average Math Score\n",
    "    * Average Reading Score\n",
    "    * % Passing Math\n",
    "    * % Passing Reading\n",
    "    * Overall Passing Rate (Average of Math & Reading)"
   ]
  },
  {
   "cell_type": "markdown",
   "metadata": {},
   "source": [
    "### Top Performing Schools (By Passing Rate)\n",
    "- Create a table that highlights the top 5 performing schools based on Overall Passing Rate. Include:\n",
    "    * School Name\n",
    "    * School Type\n",
    "    * Total Students\n",
    "    * Total School Budget\n",
    "    * Per Student Budget\n",
    "    * Average Math Score\n",
    "    * Average Reading Score\n",
    "    * % Passing Math\n",
    "    * % Passing Reading\n",
    "    * Overall Passing Rate (Average of Math & Reading)"
   ]
  },
  {
   "cell_type": "markdown",
   "metadata": {},
   "source": [
    "### Bottom Performing Schools (By Passing Rate)\n",
    "- Create a table that highlights the bottom 5 performing schools based on Overall Passing Rate. Include all of the same metrics as above.\n",
    "    * School Name\n",
    "    * School Type\n",
    "    * Total Students\n",
    "    * Total School Budget\n",
    "    * Per Student Budget\n",
    "    * Average Math Score\n",
    "    * Average Reading Score\n",
    "    * % Passing Math\n",
    "    * % Passing Reading\n",
    "    * Overall Passing Rate (Average of Math & Reading)"
   ]
  },
  {
   "cell_type": "markdown",
   "metadata": {},
   "source": [
    "### Math Scores by Grade**\n",
    "- Create a table that lists the average Math Score for students of each grade level (9th, 10th, 11th, 12th) at each school.\n",
    "    * 9th\n",
    "    * 10th\n",
    "    * 11th\n",
    "    * 12th\n",
    "    * AT EACH SCHOOL"
   ]
  },
  {
   "cell_type": "markdown",
   "metadata": {},
   "source": [
    "### Reading Scores by Grade\n",
    "- Create a table that lists the average Reading Score for students of each grade level (9th, 10th, 11th, 12th) at each school.\n",
    "    * 9th\n",
    "    * 10th\n",
    "    * 11th\n",
    "    * 12th\n",
    "    * AT EACH SCHOOL"
   ]
  },
  {
   "cell_type": "markdown",
   "metadata": {},
   "source": [
    "### Scores by School Spending\n",
    "- Create a table that breaks down school performances based on average Spending Ranges (Per Student); use 4 spending ranges. \n",
    "- Include in the table each of the following:\n",
    "    * Average Math Score\n",
    "    * Average Reading Score\n",
    "    * % Passing Math\n",
    "    * % Passing Reading\n",
    "    * Overall Passing Rate (Average of Math & Reading)"
   ]
  },
  {
   "cell_type": "markdown",
   "metadata": {},
   "source": [
    "### Scores by School Size\n",
    "- Create a table that breaks down schools based on a reasonable approximation of school size (Small, Medium, Large).\n",
    "    * Average Math Score\n",
    "    * Average Reading Score\n",
    "    * % Passing Math\n",
    "    * % Passing Reading\n",
    "    * Overall Passing Rate (Average of Math & Reading)"
   ]
  },
  {
   "cell_type": "markdown",
   "metadata": {},
   "source": [
    "### Scores by School Type\n",
    "- Create a table that breaks down schools based on school type (Charter vs. District).\n",
    "    * Average Math Score\n",
    "    * Average Reading Score\n",
    "    * % Passing Math\n",
    "    * % Passing Reading\n",
    "    * Overall Passing Rate (Average of Math & Reading)"
   ]
  },
  {
   "cell_type": "markdown",
   "metadata": {},
   "source": [
    "__As final considerations:__<br>\n",
    "   >__Use the pandas library and Jupyter Notebook.__<br>\n",
    "   >__You must submit a link to your Jupyter Notebook with the viewable Data Frames.__<br>\n",
    "   >__You must include a written description of at least two observable trends based on the data.__<br> \n",
    "   >* OBSERVATION 1\n",
    "   >* OBSERVATION 2"
   ]
  },
  {
   "cell_type": "code",
   "execution_count": null,
   "metadata": {},
   "outputs": [],
   "source": [
    "import os\n",
    "import pandas as pd\n",
    "import numpy as np\n",
    "\n",
    "school_path = os.path.join(\"Resources\", \"schools_complete.csv\")\n",
    "student_path = os.path.join(\"Resources\", \"students_complete.csv\")\n",
    "\n",
    "school_info = pd.read_csv(school_path)\n",
    "student_info = pd.read_csv(student_path)"
   ]
  },
  {
   "cell_type": "code",
   "execution_count": null,
   "metadata": {},
   "outputs": [],
   "source": [
    "primary_df = pd.merge(school_info, student_info, how='outer', on='school_name', sort=False)\n",
    "primary_df = (primary_df.rename(columns={'school_name': 'School Name', \n",
    "                                         'type': 'School Type', \n",
    "                                         'size': 'Size', \n",
    "                                         'budget': 'Budget', \n",
    "                                         'student_name': 'Student',\n",
    "                                         'grade': 'Grade', \n",
    "                                         'gender': 'Gender', \n",
    "                                         'reading_score': 'Reading Score', \n",
    "                                         'math_score': 'Math Score'}))\n",
    "# primary_df.head()"
   ]
  },
  {
   "cell_type": "code",
   "execution_count": null,
   "metadata": {},
   "outputs": [],
   "source": [
    "school_count = primary_df['School Name'].nunique()\n",
    "# school_count"
   ]
  },
  {
   "cell_type": "code",
   "execution_count": null,
   "metadata": {},
   "outputs": [],
   "source": [
    "school_names = primary_df['School Name'].unique()\n",
    "# school_names"
   ]
  },
  {
   "cell_type": "code",
   "execution_count": null,
   "metadata": {},
   "outputs": [],
   "source": [
    "student_count = primary_df['Student ID'].nunique()\n",
    "# student_count"
   ]
  },
  {
   "cell_type": "code",
   "execution_count": null,
   "metadata": {},
   "outputs": [],
   "source": [
    "total_budget = ((primary_df['Budget']).drop_duplicates()).sum()\n",
    "# total_budget"
   ]
  },
  {
   "cell_type": "code",
   "execution_count": null,
   "metadata": {},
   "outputs": [],
   "source": [
    "avg_math = ((primary_df['Math Score'].sum()) / student_count).round(2)\n",
    "# avg_math"
   ]
  },
  {
   "cell_type": "code",
   "execution_count": null,
   "metadata": {},
   "outputs": [],
   "source": [
    "avg_read = ((primary_df['Reading Score'].sum()) / student_count).round(2)\n",
    "# avg_read"
   ]
  },
  {
   "cell_type": "code",
   "execution_count": null,
   "metadata": {},
   "outputs": [],
   "source": [
    "math_pass = (len(primary_df.loc[primary_df['Math Score'] >= 70]) / student_count) * 100\n",
    "# math_pass"
   ]
  },
  {
   "cell_type": "code",
   "execution_count": null,
   "metadata": {},
   "outputs": [],
   "source": [
    "read_pass = (len(primary_df.loc[primary_df['Reading Score'] >= 70]) / student_count) * 100\n",
    "# read_pass"
   ]
  },
  {
   "cell_type": "code",
   "execution_count": null,
   "metadata": {},
   "outputs": [],
   "source": [
    "overall_pass = (math_pass + read_pass) / 2\n",
    "# overall_pass"
   ]
  },
  {
   "cell_type": "code",
   "execution_count": null,
   "metadata": {},
   "outputs": [],
   "source": [
    "## NOTES ['Overall Pass' & Scores by School Spending, Size, and Type] :\n",
    "\n",
    "##  Validate with client that they want this calculated in this method. \n",
    "##  This recommendation carries through all 'Overall Pass Rate' calculations in the project.\n",
    "\n",
    "##  Propose this be calculated as:\n",
    "##  ((Count of students whose avg math & reading scores >= 70) / total students) * 100\n",
    "\n",
    "##  The proposal calculates percent of all passing students (by individual average) v the less accurate straight avg formula.\n",
    "\n",
    "##    *The numbers are -significantly- different:\n",
    "##      * per overall_pass listed above, results in 80.4%\n",
    "##      * the overall_avg_pass_pct recommended here and defined below in notes, results in 89.4%\n",
    "\n",
    "# avg_overall_pass_by_student_df = primary_df\n",
    "# avg_overall_pass_by_student_df['Student Average'] = (\n",
    "#     (avg_overall_pass_by_student_df['Math Score'] \n",
    "#      + \n",
    "#      avg_overall_pass_by_student_df['Reading Score']) \n",
    "#      / 2)\n",
    "# overall_avg_mask = avg_overall_pass_by_student_df['Student Average'] >= 70\n",
    "# overall_avg_pass_pct = (len(primary_df[overall_avg_mask])/student_count) * 100\n",
    "# overall_avg_pass_pct\n",
    "\n",
    "\n",
    "##   In addition to the exceptions for each 'Overall Pass Rate', the averaging calculations within the 'Scores by School \n",
    "##   Spending', 'Scores by School Size', and 'Scores by School Type' sections in the back half of this exercise should also \n",
    "##   be reviewed for accuracy. These are showing as strict averages, rather than true averages by count. A school with 4976\n",
    "##   students is weighted equally to a school with the schools that are under 1000...this isn't accurate mathematically.\n",
    "##   The numbers should be calculated for the last 3 parts as they were in hte 'by Grade' breakdowns..."
   ]
  },
  {
   "cell_type": "code",
   "execution_count": null,
   "metadata": {},
   "outputs": [],
   "source": [
    "district_summary_dict = ({'Total Schools': [school_count], \n",
    "                          'Total Students': [student_count],\n",
    "                          'Total Budget': [total_budget], \n",
    "                          'Average Math Score': [avg_math], \n",
    "                          'Average Reading Score': [avg_read], \n",
    "                          '% Passing Math': [math_pass], \n",
    "                          '% Passing Reading': [read_pass],\n",
    "                          'Overall Pass Rate': [overall_pass],\n",
    "                          'SUMMARY': 'District Results'})\n",
    "\n",
    "district_summary_table_df = pd.DataFrame(district_summary_dict)\n",
    "district_summary_table_df.set_index('SUMMARY', inplace = True)\n",
    "district_summary_fin = (district_summary_table_df.style.format(\n",
    "    {'Total Students': '{0:,d}',\n",
    "     'Total Budget': '${0:,d}',\n",
    "     'Average Math Score': '{0:,.1f}',\n",
    "     'Average Reading Score': '{0:,.1f}',\n",
    "     '% Passing Math': '{0:,.1f}%',\n",
    "     '% Passing Reading': '{0:,.1f}%',\n",
    "     'Overall Pass Rate': '{0:,.1f}%'}))\n",
    "\n",
    "district_summary_fin"
   ]
  },
  {
   "cell_type": "code",
   "execution_count": null,
   "metadata": {},
   "outputs": [],
   "source": [
    "school_groups = primary_df.groupby('School Name')\n",
    "# school_groups.head()"
   ]
  },
  {
   "cell_type": "code",
   "execution_count": null,
   "metadata": {},
   "outputs": [],
   "source": [
    "school_math_list = []\n",
    "for school in school_names:\n",
    "    school_mask = primary_df['School Name'] == school\n",
    "    math_mask = primary_df['Math Score'] >= 70\n",
    "    school_math_pass_count = len(primary_df[school_mask & math_mask])\n",
    "    school_math_list.append(school_math_pass_count)\n",
    "# school_math_list"
   ]
  },
  {
   "cell_type": "code",
   "execution_count": null,
   "metadata": {},
   "outputs": [],
   "source": [
    "school_read_list = []\n",
    "for school in school_names:\n",
    "    school_mask = primary_df['School Name'] == school\n",
    "    reading_mask = primary_df['Reading Score'] >= 70\n",
    "    school_reading_pass_count = len(primary_df[school_mask & reading_mask])\n",
    "    school_read_list.append(school_reading_pass_count)\n",
    "# school_read_list"
   ]
  },
  {
   "cell_type": "code",
   "execution_count": null,
   "metadata": {},
   "outputs": [],
   "source": [
    "students_per_school = []\n",
    "for school in school_names:\n",
    "    test_school_df = primary_df[primary_df['School Name'] == school]\n",
    "    count = test_school_df['Student ID'].nunique()\n",
    "    students_per_school.append(count)\n",
    "# students_per_school    "
   ]
  },
  {
   "cell_type": "code",
   "execution_count": null,
   "metadata": {},
   "outputs": [],
   "source": [
    "by_school_summary_df = school_groups['School Name', 'School Type', 'Size', 'Budget'].head(1)\n",
    "by_school_summary_df.set_index('School Name', inplace = True)\n",
    "by_school_summary_df['Per Student Budget'] = (\n",
    "    by_school_summary_df['Budget']/by_school_summary_df['Size'])\n",
    "by_school_summary_df['Average Math Score'] = (\n",
    "    primary_df.groupby('School Name')['Math Score'].mean())\n",
    "by_school_summary_df['Average Reading Score'] = (\n",
    "    primary_df.groupby('School Name')['Reading Score'].mean())\n",
    "by_school_summary_df['% Passing Math'] = (\n",
    "    school_math_list / by_school_summary_df['Size'] * 100)\n",
    "by_school_summary_df['% Passing Reading'] = (\n",
    "    school_read_list / by_school_summary_df['Size'] * 100)\n",
    "by_school_summary_df['Overall Pass Rate'] = (\n",
    "    (by_school_summary_df['% Passing Math'] + by_school_summary_df['% Passing Reading']) / 2)\n",
    "by_school_summary_df.rename(columns={\"Size\": \"Total Students\", \"Budget\": \"Total School Budget\"}, inplace = True)\n",
    "by_school_summary_df.columns.name = 'SUMMARY'\n",
    "by_school_summary_fin = (by_school_summary_df.style.format(\n",
    "    {'Total Students': '{0:,d}',\n",
    "     'Total School Budget': '${0:,d}',\n",
    "     'Per Student Budget': '${0:,.2f}',\n",
    "     'Average Math Score': '{0:,.1f}',\n",
    "     'Average Reading Score': '{0:,.1f}',\n",
    "     '% Passing Math': '{0:,.1f}%',\n",
    "     '% Passing Reading': '{0:,.1f}%',\n",
    "     'Overall Pass Rate': '{0:,.1f}%'}))\n",
    "# by_school_summary_fin"
   ]
  },
  {
   "cell_type": "code",
   "execution_count": null,
   "metadata": {},
   "outputs": [],
   "source": [
    "top_5_schools_df = by_school_summary_df.nlargest(5, 'Overall Pass Rate')\n",
    "top_5_schools_df.columns.name = 'Top Performing Schools'\n",
    "top_5_schools_fin = (top_5_schools_df.style.format(\n",
    "    {'Total Students': '{0:,d}',\n",
    "     'Total School Budget': '${0:,d}',\n",
    "     'Per Student Budget': '${0:,.2f}',\n",
    "     'Average Math Score': '{0:,.1f}',\n",
    "     'Average Reading Score': '{0:,.1f}',\n",
    "     '% Passing Math': '{0:,.1f}%',\n",
    "     '% Passing Reading': '{0:,.1f}%',\n",
    "     'Overall Pass Rate': '{0:,.1f}%'}))\n",
    "top_5_schools_fin"
   ]
  },
  {
   "cell_type": "code",
   "execution_count": null,
   "metadata": {},
   "outputs": [],
   "source": [
    "bottom_5_schools_df = by_school_summary_df.nsmallest(5, 'Overall Pass Rate')\n",
    "bottom_5_schools_df.columns.name = 'Schools Needing Focus'\n",
    "bottom_5_schools_fin = (bottom_5_schools_df.style.format(\n",
    "    {'Total Students': '{0:,d}',\n",
    "     'Total School Budget': '${0:,d}',\n",
    "     'Per Student Budget': '${0:,.2f}',\n",
    "     'Average Math Score': '{0:,.1f}',\n",
    "     'Average Reading Score': '{0:,.1f}',\n",
    "     '% Passing Math': '{0:,.1f}%',\n",
    "     '% Passing Reading': '{0:,.1f}%',\n",
    "     'Overall Pass Rate': '{0:,.1f}%'}))\n",
    "bottom_5_schools_fin"
   ]
  },
  {
   "cell_type": "code",
   "execution_count": null,
   "metadata": {},
   "outputs": [],
   "source": [
    "frosh_math = primary_df[primary_df['Grade'] == '9th']\n",
    "frosh_math_df = frosh_math.groupby(['School Name']).mean()\n",
    "frosh_math_df = frosh_math_df['Math Score'].to_frame()\n",
    "# frosh_math_df"
   ]
  },
  {
   "cell_type": "code",
   "execution_count": null,
   "metadata": {},
   "outputs": [],
   "source": [
    "soph_math = primary_df[primary_df['Grade'] == '10th']\n",
    "soph_math_df = soph_math.groupby(['School Name']).mean()\n",
    "soph_math_df = soph_math_df['Math Score'].to_frame()\n",
    "# soph_math_df"
   ]
  },
  {
   "cell_type": "code",
   "execution_count": null,
   "metadata": {},
   "outputs": [],
   "source": [
    "junior_math = primary_df[primary_df['Grade'] == '11th']\n",
    "junior_math_df = junior_math.groupby(['School Name']).mean()\n",
    "junior_math_df = junior_math_df['Math Score'].to_frame()\n",
    "# junior_math_df"
   ]
  },
  {
   "cell_type": "code",
   "execution_count": null,
   "metadata": {},
   "outputs": [],
   "source": [
    "senior_math = primary_df[primary_df['Grade'] == '12th']\n",
    "senior_math_df = senior_math.groupby(['School Name']).mean()\n",
    "senior_math_df = senior_math_df['Math Score'].to_frame()\n",
    "# senior_math_df"
   ]
  },
  {
   "cell_type": "code",
   "execution_count": null,
   "metadata": {},
   "outputs": [],
   "source": [
    "math_avg_by_school_df = frosh_math_df.merge(soph_math_df, on = 'School Name')\n",
    "math_avg_by_school_df.rename(columns={\"Math Score_x\": \"9th Grade\", \"Math Score_y\": \"10th Grade\"}, inplace = True)\n",
    "math_avg_by_school_df = math_avg_by_school_df.merge(junior_math_df, on = 'School Name')\n",
    "math_avg_by_school_df.rename(columns={\"Math Score\": \"11th Grade\"}, inplace = True)\n",
    "math_avg_by_school_df = math_avg_by_school_df.merge(senior_math_df, on = 'School Name')\n",
    "math_avg_by_school_df.rename(columns={\"Math Score\": \"12th Grade\"}, inplace = True)\n",
    "math_avg_by_school_df.columns.name = 'Average Math Scores'\n",
    "math_avg_by_school_fin = math_avg_by_school_df.style.format('{:,.1f}%')\n",
    "math_avg_by_school_fin"
   ]
  },
  {
   "cell_type": "code",
   "execution_count": null,
   "metadata": {},
   "outputs": [],
   "source": [
    "frosh_read = primary_df[primary_df['Grade'] == '9th']\n",
    "frosh_read_df = frosh_read.groupby(['School Name']).mean()\n",
    "frosh_read_df = frosh_read_df['Reading Score'].to_frame()\n",
    "# frosh_read_df"
   ]
  },
  {
   "cell_type": "code",
   "execution_count": null,
   "metadata": {},
   "outputs": [],
   "source": [
    "soph_read = primary_df[primary_df['Grade'] == '10th']\n",
    "soph_read_df = soph_read.groupby(['School Name']).mean()\n",
    "soph_read_df = soph_read_df['Reading Score'].to_frame()\n",
    "# soph_read_df"
   ]
  },
  {
   "cell_type": "code",
   "execution_count": null,
   "metadata": {},
   "outputs": [],
   "source": [
    "junior_read = primary_df[primary_df['Grade'] == '11th']\n",
    "junior_read_df = junior_read.groupby(['School Name']).mean()\n",
    "junior_read_df = junior_read_df['Reading Score'].to_frame()\n",
    "# junior_read_df"
   ]
  },
  {
   "cell_type": "code",
   "execution_count": null,
   "metadata": {},
   "outputs": [],
   "source": [
    "senior_read = primary_df[primary_df['Grade'] == '12th']\n",
    "senior_read_df = senior_read.groupby(['School Name']).mean()\n",
    "senior_read_df = senior_read_df['Reading Score'].to_frame()\n",
    "# senior_read_df"
   ]
  },
  {
   "cell_type": "code",
   "execution_count": null,
   "metadata": {},
   "outputs": [],
   "source": [
    "read_avg_by_school_df = frosh_read_df.merge(soph_read_df, on = 'School Name')\n",
    "read_avg_by_school_df.rename(columns={\"Reading Score_x\": \"9th Grade\", \"Reading Score_y\": \"10th Grade\"}, inplace = True)\n",
    "read_avg_by_school_df = read_avg_by_school_df.merge(junior_read_df, on = 'School Name')\n",
    "read_avg_by_school_df.rename(columns={\"Reading Score\": \"11th Grade\"}, inplace = True)\n",
    "read_avg_by_school_df = read_avg_by_school_df.merge(senior_read_df, on = 'School Name')\n",
    "read_avg_by_school_df.rename(columns={\"Reading Score\": \"12th Grade\"}, inplace = True)\n",
    "read_avg_by_school_df.columns.name = 'Average Reading Scores'\n",
    "read_avg_by_school_fin = math_avg_by_school_df.style.format('{:,.1f}%')\n",
    "read_avg_by_school_fin"
   ]
  },
  {
   "cell_type": "code",
   "execution_count": null,
   "metadata": {},
   "outputs": [],
   "source": [
    "budget_bounds = [0, 595, 615, 635, 655]\n",
    "budget_labels = ['< $595', '$595 - $615', '$615 - $635', ' $635+']\n",
    "per_student_budget_df = by_school_summary_df.reset_index(inplace = False)\n",
    "per_student_budget_df['Budget per Student'] = (\n",
    "    pd.cut(per_student_budget_df['Per Student Budget'], budget_bounds, labels = budget_labels))\n",
    "grp_by_student_budget_df = per_student_budget_df.groupby('Budget per Student').mean()\n",
    "grp_by_student_budget_df = (\n",
    "    grp_by_student_budget_df.drop(columns = ['Total Students', 'Total School Budget', 'Per Student Budget']))\n",
    "grp_by_student_budget_fin = grp_by_student_budget_df.style.format('{:,.1f}%')\n",
    "grp_by_student_budget_fin\n",
    "##formatting in Budget per Student index column???"
   ]
  },
  {
   "cell_type": "code",
   "execution_count": null,
   "metadata": {},
   "outputs": [],
   "source": [
    "school_size_bounds = [0, 1500, 3000, 5500]\n",
    "school_size_labels = ['Small (<1500)', 'Medium (1500-3000)', 'Large (3000+)']\n",
    "per_school_size_df = by_school_summary_df.reset_index(inplace = False)\n",
    "per_school_size_df['School Size (Students)'] = (\n",
    "    pd.cut(per_school_size_df['Total Students'], school_size_bounds, labels = school_size_labels))\n",
    "grp_per_school_size_df = per_school_size_df.groupby('School Size (Students)').mean()\n",
    "grp_per_school_size_df = (\n",
    "    grp_per_school_size_df.drop(columns = ['Total Students', 'Total School Budget', 'Per Student Budget']))\n",
    "grp_per_school_size_fin = grp_per_school_size_df.style.format('{:,.1f}%')\n",
    "grp_per_school_size_fin"
   ]
  },
  {
   "cell_type": "code",
   "execution_count": null,
   "metadata": {},
   "outputs": [],
   "source": [
    "district_df = pd.DataFrame(by_school_summary_df[by_school_summary_df['School Type'] == 'District'])\n",
    "# district_df.head()"
   ]
  },
  {
   "cell_type": "code",
   "execution_count": null,
   "metadata": {},
   "outputs": [],
   "source": [
    "district_df.reset_index(inplace = True)\n",
    "district_df_clean = (\n",
    "    district_df.drop(columns = ['School Name', 'Total Students', 'Total School Budget', 'Per Student Budget']))\n",
    "district_summary_fin = pd.DataFrame(district_df_clean.mean()).transpose()\n",
    "district_summary_fin['School Type'] = 'District'\n",
    "# district_summary_fin"
   ]
  },
  {
   "cell_type": "code",
   "execution_count": null,
   "metadata": {},
   "outputs": [],
   "source": [
    "charter_df = pd.DataFrame(by_school_summary_df[by_school_summary_df['School Type'] == 'Charter'])\n",
    "# charter_df.head()"
   ]
  },
  {
   "cell_type": "code",
   "execution_count": null,
   "metadata": {},
   "outputs": [],
   "source": [
    "charter_df.reset_index(inplace = True)\n",
    "charter_df_clean = (\n",
    "    charter_df.drop(columns = ['School Name', 'Total Students', 'Total School Budget', 'Per Student Budget']))\n",
    "charter_summary_fin = pd.DataFrame(charter_df_clean.mean()).transpose()\n",
    "charter_summary_fin['School Type'] = 'Charter'\n",
    "# charter_summary_fin"
   ]
  },
  {
   "cell_type": "code",
   "execution_count": null,
   "metadata": {},
   "outputs": [],
   "source": [
    "school_type_summary_df = charter_summary_fin.merge(district_summary_fin, how = 'outer')\n",
    "school_type_summary_df = school_type_summary_df.set_index('School Type')\n",
    "school_type_summary_fin = school_type_summary_df.style.format('{:,.1f}%')\n",
    "school_type_summary_fin"
   ]
  },
  {
   "cell_type": "code",
   "execution_count": null,
   "metadata": {},
   "outputs": [],
   "source": []
  }
 ],
 "metadata": {
  "kernelspec": {
   "display_name": "Python 3",
   "language": "python",
   "name": "python3"
  },
  "language_info": {
   "codemirror_mode": {
    "name": "ipython",
    "version": 3
   },
   "file_extension": ".py",
   "mimetype": "text/x-python",
   "name": "python",
   "nbconvert_exporter": "python",
   "pygments_lexer": "ipython3",
   "version": "3.7.3"
  }
 },
 "nbformat": 4,
 "nbformat_minor": 2
}
