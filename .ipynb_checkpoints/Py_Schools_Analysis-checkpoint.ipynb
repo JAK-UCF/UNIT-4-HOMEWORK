{
 "cells": [
  {
   "cell_type": "markdown",
   "metadata": {},
   "source": [
    "### Analysis of Py District Schools\n",
    "   >* OBSERVATION 1: The smaller the school size, the better overall pass performance. Better overall pass performance may also be correlated to school _type_ since the Charter schools are generally smaller than the District schools. It would be nice to look into if smaller schools have a lower student-teacher ratio than the larger school, as could be assumed, but this is a limitation of the current data where faculty size is not provided.\n",
    "   \n",
    "   >* OBSERVATION 2: There is no correlation between per student budget and greater performance. This is likely because the per student budget variance is not significant across schools. The spread is under $100. If the set were larger, say all the districts in the state, perhaps the results would vary.\n",
    "   \n",
    "   >* OBSERVATION 3: There is not a material difference in results per grade by school for either the math scores or the reading scores. Said differently, average passing rates by subject, across grades within an individual school, are fairly stable. Based on this, there may need to be an audit of either the base subject curriculums or subject department leadership."
   ]
  },
  {
   "cell_type": "code",
   "execution_count": null,
   "metadata": {},
   "outputs": [],
   "source": [
    "import os\n",
    "import pandas as pd\n",
    "import numpy as np\n",
    "\n",
    "school_path = os.path.join(\"Resources\", \"schools_complete.csv\")\n",
    "student_path = os.path.join(\"Resources\", \"students_complete.csv\")\n",
    "\n",
    "school_info = pd.read_csv(school_path)\n",
    "student_info = pd.read_csv(student_path)\n",
    "\n",
    "primary_df = pd.merge(school_info, student_info, how='outer', on='school_name', sort=False)\n",
    "primary_df = (primary_df.rename(columns={'school_name': 'School Name', \n",
    "                                         'type': 'School Type', \n",
    "                                         'size': 'Size', \n",
    "                                         'budget': 'Budget', \n",
    "                                         'student_name': 'Student',\n",
    "                                         'grade': 'Grade', \n",
    "                                         'gender': 'Gender', \n",
    "                                         'reading_score': 'Reading Score', \n",
    "                                         'math_score': 'Math Score'}))\n",
    "# primary_df.head()\n",
    "\n",
    "school_count = primary_df['School Name'].nunique()\n",
    "school_names = primary_df['School Name'].unique()\n",
    "student_count = primary_df['Student ID'].nunique()\n",
    "total_budget = ((primary_df['Budget']).drop_duplicates()).sum()\n",
    "avg_math = ((primary_df['Math Score'].sum()) / student_count).round(2)\n",
    "avg_read = ((primary_df['Reading Score'].sum()) / student_count).round(2)\n",
    "math_pass = (len(primary_df.loc[primary_df['Math Score'] >= 70]) / student_count) * 100\n",
    "read_pass = (len(primary_df.loc[primary_df['Reading Score'] >= 70]) / student_count) * 100\n",
    "overall_pass = (math_pass + read_pass) / 2"
   ]
  },
  {
   "cell_type": "markdown",
   "metadata": {},
   "source": [
    "## EXCEPTION NOTES ['Overall Pass' & Scores by School Spending, Size, and Type] :\n",
    "\n",
    "Validate with client that they want this calculated in this method. \n",
    "This recommendation carries through all 'Overall Pass Rate' calculations in the project.\n",
    "\n",
    "Propose this be calculated as:\n",
    "((Count of students whose avg math & reading scores >= 70) / total students) * 100\n",
    "\n",
    "The proposal calculates percent of all passing students (by individual average) v the less accurate straight avg formula.\n",
    "\n",
    "    *The numbers are -significantly- different:\n",
    "      * per overall_pass listed above, results in 80.4%\n",
    "      * the overall_avg_pass_pct recommended here and defined below in notes, results in 89.4%\n",
    "\n",
    "In addition to the exceptions for each 'Overall Pass Rate', the averaging calculations within the 'Scores by School \n",
    "Spending', 'Scores by School Size', and 'Scores by School Type' sections in the back half of this exercise should also \n",
    "be reviewed for accuracy. These are showing as straight averages, rather than true averages by performance-by-student count. \n",
    "A school with 4976 students is weighted equally to a school with the schools that are under 1000...this isn't accurate mathematically. The numbers should be calculated for the last 3 parts similarly to how they are in the 'by Grade' breakdowns..."
   ]
  },
  {
   "cell_type": "code",
   "execution_count": null,
   "metadata": {},
   "outputs": [],
   "source": [
    "# # overall pass (by individual student average)\n",
    "# avg_overall_pass_by_student_df = primary_df\n",
    "# avg_overall_pass_by_student_df['Student Average'] = (\n",
    "#     (avg_overall_pass_by_student_df['Math Score'] \n",
    "#      + \n",
    "#      avg_overall_pass_by_student_df['Reading Score']) \n",
    "#      / 2)\n",
    "# overall_avg_mask = avg_overall_pass_by_student_df['Student Average'] >= 70\n",
    "# overall_avg_pass_pct = (len(primary_df[overall_avg_mask])/student_count) * 100\n",
    "# overall_avg_pass_pct"
   ]
  },
  {
   "cell_type": "markdown",
   "metadata": {},
   "source": [
    "### District Summary"
   ]
  },
  {
   "cell_type": "code",
   "execution_count": null,
   "metadata": {},
   "outputs": [],
   "source": [
    "district_summary_dict = ({'Total Schools': [school_count], \n",
    "                          'Total Students': [student_count],\n",
    "                          'Total Budget': [total_budget], \n",
    "                          'Average Math Score': [avg_math], \n",
    "                          'Average Reading Score': [avg_read], \n",
    "                          '% Passing Math': [math_pass], \n",
    "                          '% Passing Reading': [read_pass],\n",
    "                          'Overall Pass Rate': [overall_pass],\n",
    "                          'SUMMARY': 'District Results'})\n",
    "\n",
    "district_summary_table_df = pd.DataFrame(district_summary_dict)\n",
    "district_summary_table_df.set_index('SUMMARY', inplace = True)\n",
    "district_summary_fin = (district_summary_table_df.style.format(\n",
    "    {'Total Students': '{0:,d}',\n",
    "     'Total Budget': '${0:,d}',\n",
    "     'Average Math Score': '{0:,.1f}',\n",
    "     'Average Reading Score': '{0:,.1f}',\n",
    "     '% Passing Math': '{0:,.1f}%',\n",
    "     '% Passing Reading': '{0:,.1f}%',\n",
    "     'Overall Pass Rate': '{0:,.1f}%'}))\n",
    "\n",
    "district_summary_fin"
   ]
  },
  {
   "cell_type": "markdown",
   "metadata": {},
   "source": [
    "### School Summary [Data Holder]"
   ]
  },
  {
   "cell_type": "code",
   "execution_count": null,
   "metadata": {},
   "outputs": [],
   "source": [
    "school_groups = primary_df.groupby('School Name')\n",
    "\n",
    "school_math_list = []\n",
    "for school in school_names:\n",
    "    school_mask = primary_df['School Name'] == school\n",
    "    math_mask = primary_df['Math Score'] >= 70\n",
    "    school_math_pass_count = len(primary_df[school_mask & math_mask])\n",
    "    school_math_list.append(school_math_pass_count)\n",
    "\n",
    "school_read_list = []\n",
    "for school in school_names:\n",
    "    school_mask = primary_df['School Name'] == school\n",
    "    reading_mask = primary_df['Reading Score'] >= 70\n",
    "    school_reading_pass_count = len(primary_df[school_mask & reading_mask])\n",
    "    school_read_list.append(school_reading_pass_count)\n",
    "\n",
    "students_per_school = []\n",
    "for school in school_names:\n",
    "    test_school_df = primary_df[primary_df['School Name'] == school]\n",
    "    count = test_school_df['Student ID'].nunique()\n",
    "    students_per_school.append(count)\n",
    "\n",
    "by_school_summary_df = school_groups['School Name', 'School Type', 'Size', 'Budget'].head(1)\n",
    "by_school_summary_df.set_index('School Name', inplace = True)\n",
    "by_school_summary_df['Per Student Budget'] = (\n",
    "    by_school_summary_df['Budget']/by_school_summary_df['Size'])\n",
    "by_school_summary_df['Average Math Score'] = (\n",
    "    primary_df.groupby('School Name')['Math Score'].mean())\n",
    "by_school_summary_df['Average Reading Score'] = (\n",
    "    primary_df.groupby('School Name')['Reading Score'].mean())\n",
    "by_school_summary_df['% Passing Math'] = (\n",
    "    school_math_list / by_school_summary_df['Size'] * 100)\n",
    "by_school_summary_df['% Passing Reading'] = (\n",
    "    school_read_list / by_school_summary_df['Size'] * 100)\n",
    "by_school_summary_df['Overall Pass Rate'] = (\n",
    "    (by_school_summary_df['% Passing Math'] + by_school_summary_df['% Passing Reading']) / 2)\n",
    "by_school_summary_df.rename(columns={\"Size\": \"Total Students\", \"Budget\": \"Total School Budget\"}, inplace = True)\n",
    "by_school_summary_df.columns.name = 'SUMMARY'\n",
    "by_school_summary_fin = (by_school_summary_df.style.format(\n",
    "    {'Total Students': '{0:,d}',\n",
    "     'Total School Budget': '${0:,d}',\n",
    "     'Per Student Budget': '${0:,.2f}',\n",
    "     'Average Math Score': '{0:,.1f}',\n",
    "     'Average Reading Score': '{0:,.1f}',\n",
    "     '% Passing Math': '{0:,.1f}%',\n",
    "     '% Passing Reading': '{0:,.1f}%',\n",
    "     'Overall Pass Rate': '{0:,.1f}%'}))\n",
    "# by_school_summary_fin"
   ]
  },
  {
   "cell_type": "markdown",
   "metadata": {},
   "source": [
    "### Top Performing Schools (By Passing Rate)"
   ]
  },
  {
   "cell_type": "code",
   "execution_count": null,
   "metadata": {},
   "outputs": [],
   "source": [
    "top_5_schools_df = by_school_summary_df.nlargest(5, 'Overall Pass Rate')\n",
    "top_5_schools_df.columns.name = 'Top Performing Schools'\n",
    "top_5_schools_fin = (top_5_schools_df.style.format(\n",
    "    {'Total Students': '{0:,d}',\n",
    "     'Total School Budget': '${0:,d}',\n",
    "     'Per Student Budget': '${0:,.2f}',\n",
    "     'Average Math Score': '{0:,.1f}',\n",
    "     'Average Reading Score': '{0:,.1f}',\n",
    "     '% Passing Math': '{0:,.1f}%',\n",
    "     '% Passing Reading': '{0:,.1f}%',\n",
    "     'Overall Pass Rate': '{0:,.1f}%'}))\n",
    "top_5_schools_fin"
   ]
  },
  {
   "cell_type": "markdown",
   "metadata": {},
   "source": [
    "### Bottom Performing Schools (By Passing Rate)"
   ]
  },
  {
   "cell_type": "code",
   "execution_count": null,
   "metadata": {},
   "outputs": [],
   "source": [
    "bottom_5_schools_df = by_school_summary_df.nsmallest(5, 'Overall Pass Rate')\n",
    "bottom_5_schools_df.columns.name = 'Schools Needing Focus'\n",
    "bottom_5_schools_fin = (bottom_5_schools_df.style.format(\n",
    "    {'Total Students': '{0:,d}',\n",
    "     'Total School Budget': '${0:,d}',\n",
    "     'Per Student Budget': '${0:,.2f}',\n",
    "     'Average Math Score': '{0:,.1f}',\n",
    "     'Average Reading Score': '{0:,.1f}',\n",
    "     '% Passing Math': '{0:,.1f}%',\n",
    "     '% Passing Reading': '{0:,.1f}%',\n",
    "     'Overall Pass Rate': '{0:,.1f}%'}))\n",
    "bottom_5_schools_fin"
   ]
  },
  {
   "cell_type": "markdown",
   "metadata": {},
   "source": [
    "### Math Scores by Grade\n",
    "Do we know why this section contained asterisks?"
   ]
  },
  {
   "cell_type": "code",
   "execution_count": null,
   "metadata": {},
   "outputs": [],
   "source": [
    "frosh_math = primary_df[primary_df['Grade'] == '9th']\n",
    "frosh_math_df = frosh_math.groupby(['School Name']).mean()\n",
    "frosh_math_df = frosh_math_df['Math Score'].to_frame()\n",
    "\n",
    "soph_math = primary_df[primary_df['Grade'] == '10th']\n",
    "soph_math_df = soph_math.groupby(['School Name']).mean()\n",
    "soph_math_df = soph_math_df['Math Score'].to_frame()\n",
    "\n",
    "junior_math = primary_df[primary_df['Grade'] == '11th']\n",
    "junior_math_df = junior_math.groupby(['School Name']).mean()\n",
    "junior_math_df = junior_math_df['Math Score'].to_frame()\n",
    "\n",
    "senior_math = primary_df[primary_df['Grade'] == '12th']\n",
    "senior_math_df = senior_math.groupby(['School Name']).mean()\n",
    "senior_math_df = senior_math_df['Math Score'].to_frame()\n",
    "\n",
    "math_avg_by_school_df = frosh_math_df.merge(soph_math_df, on = 'School Name')\n",
    "math_avg_by_school_df.rename(columns={\"Math Score_x\": \"9th Grade\", \"Math Score_y\": \"10th Grade\"}, inplace = True)\n",
    "math_avg_by_school_df = math_avg_by_school_df.merge(junior_math_df, on = 'School Name')\n",
    "math_avg_by_school_df.rename(columns={\"Math Score\": \"11th Grade\"}, inplace = True)\n",
    "math_avg_by_school_df = math_avg_by_school_df.merge(senior_math_df, on = 'School Name')\n",
    "math_avg_by_school_df.rename(columns={\"Math Score\": \"12th Grade\"}, inplace = True)\n",
    "math_avg_by_school_df.columns.name = 'Average Math Scores'\n",
    "math_avg_by_school_fin = math_avg_by_school_df.style.format('{:,.1f}%')\n",
    "math_avg_by_school_fin"
   ]
  },
  {
   "cell_type": "markdown",
   "metadata": {},
   "source": [
    "### Reading Scores by Grade"
   ]
  },
  {
   "cell_type": "code",
   "execution_count": null,
   "metadata": {},
   "outputs": [],
   "source": [
    "frosh_read = primary_df[primary_df['Grade'] == '9th']\n",
    "frosh_read_df = frosh_read.groupby(['School Name']).mean()\n",
    "frosh_read_df = frosh_read_df['Reading Score'].to_frame()\n",
    "\n",
    "soph_read = primary_df[primary_df['Grade'] == '10th']\n",
    "soph_read_df = soph_read.groupby(['School Name']).mean()\n",
    "soph_read_df = soph_read_df['Reading Score'].to_frame()\n",
    "\n",
    "junior_read = primary_df[primary_df['Grade'] == '11th']\n",
    "junior_read_df = junior_read.groupby(['School Name']).mean()\n",
    "junior_read_df = junior_read_df['Reading Score'].to_frame()\n",
    "\n",
    "senior_read = primary_df[primary_df['Grade'] == '12th']\n",
    "senior_read_df = senior_read.groupby(['School Name']).mean()\n",
    "senior_read_df = senior_read_df['Reading Score'].to_frame()\n",
    "\n",
    "read_avg_by_school_df = frosh_read_df.merge(soph_read_df, on = 'School Name')\n",
    "read_avg_by_school_df.rename(columns={\"Reading Score_x\": \"9th Grade\", \"Reading Score_y\": \"10th Grade\"}, inplace = True)\n",
    "read_avg_by_school_df = read_avg_by_school_df.merge(junior_read_df, on = 'School Name')\n",
    "read_avg_by_school_df.rename(columns={\"Reading Score\": \"11th Grade\"}, inplace = True)\n",
    "read_avg_by_school_df = read_avg_by_school_df.merge(senior_read_df, on = 'School Name')\n",
    "read_avg_by_school_df.rename(columns={\"Reading Score\": \"12th Grade\"}, inplace = True)\n",
    "read_avg_by_school_df.columns.name = 'Average Reading Scores'\n",
    "read_avg_by_school_fin = math_avg_by_school_df.style.format('{:,.1f}%')\n",
    "read_avg_by_school_fin"
   ]
  },
  {
   "cell_type": "markdown",
   "metadata": {},
   "source": [
    "### Scores by School Spending"
   ]
  },
  {
   "cell_type": "code",
   "execution_count": null,
   "metadata": {},
   "outputs": [],
   "source": [
    "budget_bounds = [0, 595, 615, 635, 655]\n",
    "budget_labels = ['< $595', '$595 - $615', '$615 - $635', ' $635+']\n",
    "per_student_budget_df = by_school_summary_df.reset_index(inplace = False)\n",
    "per_student_budget_df['Budget per Student'] = (\n",
    "    pd.cut(per_student_budget_df['Per Student Budget'], budget_bounds, labels = budget_labels))\n",
    "grp_by_student_budget_df = per_student_budget_df.groupby('Budget per Student').mean()\n",
    "grp_by_student_budget_df = (\n",
    "    grp_by_student_budget_df.drop(columns = ['Total Students', 'Total School Budget', 'Per Student Budget']))\n",
    "grp_by_student_budget_fin = grp_by_student_budget_df.style.format('{:,.1f}%')\n",
    "grp_by_student_budget_fin\n",
    "##formatting in Budget per Student index column???"
   ]
  },
  {
   "cell_type": "markdown",
   "metadata": {},
   "source": [
    "### Scores by School Size"
   ]
  },
  {
   "cell_type": "code",
   "execution_count": null,
   "metadata": {},
   "outputs": [],
   "source": [
    "school_size_bounds = [0, 1500, 3000, 5500]\n",
    "school_size_labels = ['Small (<1500)', 'Medium (1500-3000)', 'Large (3000+)']\n",
    "per_school_size_df = by_school_summary_df.reset_index(inplace = False)\n",
    "per_school_size_df['School Size (Students)'] = (\n",
    "    pd.cut(per_school_size_df['Total Students'], school_size_bounds, labels = school_size_labels))\n",
    "grp_per_school_size_df = per_school_size_df.groupby('School Size (Students)').mean()\n",
    "grp_per_school_size_df = (\n",
    "    grp_per_school_size_df.drop(columns = ['Total Students', 'Total School Budget', 'Per Student Budget']))\n",
    "grp_per_school_size_fin = grp_per_school_size_df.style.format('{:,.1f}%')\n",
    "grp_per_school_size_fin"
   ]
  },
  {
   "cell_type": "markdown",
   "metadata": {},
   "source": [
    "### Scores by School Type"
   ]
  },
  {
   "cell_type": "code",
   "execution_count": null,
   "metadata": {},
   "outputs": [],
   "source": [
    "district_df = pd.DataFrame(by_school_summary_df[by_school_summary_df['School Type'] == 'District'])\n",
    "\n",
    "district_df.reset_index(inplace = True)\n",
    "district_df_clean = (\n",
    "    district_df.drop(columns = ['School Name', 'Total Students', 'Total School Budget', 'Per Student Budget']))\n",
    "district_summary_fin = pd.DataFrame(district_df_clean.mean()).transpose()\n",
    "district_summary_fin['School Type'] = 'District'\n",
    "\n",
    "charter_df = pd.DataFrame(by_school_summary_df[by_school_summary_df['School Type'] == 'Charter'])\n",
    "\n",
    "charter_df.reset_index(inplace = True)\n",
    "charter_df_clean = (\n",
    "    charter_df.drop(columns = ['School Name', 'Total Students', 'Total School Budget', 'Per Student Budget']))\n",
    "charter_summary_fin = pd.DataFrame(charter_df_clean.mean()).transpose()\n",
    "charter_summary_fin['School Type'] = 'Charter'\n",
    "\n",
    "school_type_summary_df = charter_summary_fin.merge(district_summary_fin, how = 'outer')\n",
    "school_type_summary_df = school_type_summary_df.set_index('School Type')\n",
    "school_type_summary_fin = school_type_summary_df.style.format('{:,.1f}%')\n",
    "school_type_summary_fin"
   ]
  }
 ],
 "metadata": {
  "kernelspec": {
   "display_name": "Python 3",
   "language": "python",
   "name": "python3"
  },
  "language_info": {
   "codemirror_mode": {
    "name": "ipython",
    "version": 3
   },
   "file_extension": ".py",
   "mimetype": "text/x-python",
   "name": "python",
   "nbconvert_exporter": "python",
   "pygments_lexer": "ipython3",
   "version": "3.7.3"
  }
 },
 "nbformat": 4,
 "nbformat_minor": 2
}
