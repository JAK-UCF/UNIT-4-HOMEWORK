{
 "cells": [
  {
   "cell_type": "markdown",
   "metadata": {},
   "source": [
    "You've been asked to analyze the district-wide standardized test results. You'll be given access to every student's math and reading scores, as well as various information on the schools they attend. Your responsibility is to aggregate the data to and showcase obvious trends in school performance.\n",
    "\n",
    "##### Your final report should include each of the following:\n",
    "\n",
    "### District Summary\n",
    "- Create a high level snapshot (in table form) of the district's key metrics, including:\n",
    "    * Total Schools\n",
    "    * Total Students\n",
    "    * Total Budget\n",
    "    * Average Math Score\n",
    "    * Average Reading Score\n",
    "    * % Passing Math\n",
    "    * % Passing Reading\n",
    "    * Overall Passing Rate (Average of Math & Reading)\n",
    "\n",
    "### School Summary\n",
    "- Create an overview table that summarizes key metrics about each school, including:\n",
    "    * School Name\n",
    "    * School Type\n",
    "    * Total Students\n",
    "    * Total School Budget\n",
    "    * Per Student Budget\n",
    "    * Average Math Score\n",
    "    * Average Reading Score\n",
    "    * % Passing Math\n",
    "    * % Passing Reading\n",
    "    * Overall Passing Rate (Average of Math & Reading)\n",
    "\n",
    "### Top Performing Schools (By Passing Rate)\n",
    "- Create a table that highlights the top 5 performing schools based on Overall Passing Rate. Include:\n",
    "    * School Name\n",
    "    * School Type\n",
    "    * Total Students\n",
    "    * Total School Budget\n",
    "    * Per Student Budget\n",
    "    * Average Math Score\n",
    "    * Average Reading Score\n",
    "    * % Passing Math\n",
    "    * % Passing Reading\n",
    "    * Overall Passing Rate (Average of Math & Reading)\n",
    "\n",
    "### Bottom Performing Schools (By Passing Rate)\n",
    "- Create a table that highlights the bottom 5 performing schools based on Overall Passing Rate. Include all of the same metrics as above.\n",
    "    * School Name\n",
    "    * School Type\n",
    "    * Total Students\n",
    "    * Total School Budget\n",
    "    * Per Student Budget\n",
    "    * Average Math Score\n",
    "    * Average Reading Score\n",
    "    * % Passing Math\n",
    "    * % Passing Reading\n",
    "    * Overall Passing Rate (Average of Math & Reading)\n",
    "\n",
    "### Math Scores by Grade**\n",
    "- Create a table that lists the average Math Score for students of each grade level (9th, 10th, 11th, 12th) at each school.\n",
    "    * 9th\n",
    "    * 10th\n",
    "    * 11th\n",
    "    * 12th\n",
    "    * AT EACH SCHOOL\n",
    "\n",
    "### Reading Scores by Grade\n",
    "- Create a table that lists the average Reading Score for students of each grade level (9th, 10th, 11th, 12th) at each school.\n",
    "    * 9th\n",
    "    * 10th\n",
    "    * 11th\n",
    "    * 12th\n",
    "    * AT EACH SCHOOL\n",
    "\n",
    "### Scores by School Spending\n",
    "- Create a table that breaks down school performances based on average Spending Ranges (Per Student); use 4 spending ranges. \n",
    "- Include in the table each of the following:\n",
    "    * Average Math Score\n",
    "    * Average Reading Score\n",
    "    * % Passing Math\n",
    "    * % Passing Reading\n",
    "    * Overall Passing Rate (Average of Math & Reading)\n",
    "\n",
    "### Scores by School Size\n",
    "- Create a table that breaks down schools based on a reasonable approximation of school size (Small, Medium, Large).\n",
    "    * Average Math Score\n",
    "    * Average Reading Score\n",
    "    * % Passing Math\n",
    "    * % Passing Reading\n",
    "    * Overall Passing Rate (Average of Math & Reading)\n",
    "\n",
    "### Scores by School Type\n",
    "- Create a table that breaks down schools based on school type (Charter vs. District).\n",
    "    * Average Math Score\n",
    "    * Average Reading Score\n",
    "    * % Passing Math\n",
    "    * % Passing Reading\n",
    "    * Overall Passing Rate (Average of Math & Reading)\n",
    "\n",
    "\n",
    "__As final considerations:__<br>\n",
    "   >__Use the pandas library and Jupyter Notebook.__<br>\n",
    "   >__You must submit a link to your Jupyter Notebook with the viewable Data Frames.__<br>\n",
    "   >__You must include a written description of at least two observable trends based on the data.__<br> \n",
    "   >* OBSERVATION 1\n",
    "   >* OBSERVATION 2"
   ]
  },
  {
   "cell_type": "code",
   "execution_count": 1,
   "metadata": {},
   "outputs": [],
   "source": [
    "import os\n",
    "import pandas as pd\n",
    "import numpy as np\n",
    "\n",
    "school_path = os.path.join(\"Resources\", \"schools_complete.csv\")\n",
    "student_path = os.path.join(\"Resources\", \"students_complete.csv\")\n",
    "\n",
    "school_info = pd.read_csv(school_path)\n",
    "student_info = pd.read_csv(student_path)"
   ]
  },
  {
   "cell_type": "code",
   "execution_count": 2,
   "metadata": {},
   "outputs": [],
   "source": [
    "primary_df = pd.merge(school_info, student_info, how='outer', on='school_name', sort=False)\n",
    "primary_df = (primary_df.rename(columns={'school_name': 'School Name', \n",
    "                                         'type': 'School Type', \n",
    "                                         'size': 'Size', \n",
    "                                         'budget': 'Budget', \n",
    "                                         'student_name': 'Student',\n",
    "                                         'grade': 'Grade', \n",
    "                                         'gender': 'Gender', \n",
    "                                         'reading_score': 'Reading Score', \n",
    "                                         'math_score': 'Math Score'}))\n",
    "# primary_df.head()"
   ]
  },
  {
   "cell_type": "code",
   "execution_count": 3,
   "metadata": {},
   "outputs": [],
   "source": [
    "school_count = primary_df['School Name'].nunique()\n",
    "# school_count"
   ]
  },
  {
   "cell_type": "code",
   "execution_count": 4,
   "metadata": {},
   "outputs": [],
   "source": [
    "school_names = primary_df['School Name'].unique()\n",
    "# school_names"
   ]
  },
  {
   "cell_type": "code",
   "execution_count": 5,
   "metadata": {},
   "outputs": [],
   "source": [
    "student_count = primary_df['Student ID'].nunique()\n",
    "# student_count"
   ]
  },
  {
   "cell_type": "code",
   "execution_count": 6,
   "metadata": {},
   "outputs": [],
   "source": [
    "total_budget = ((primary_df['Budget']).drop_duplicates()).sum()\n",
    "# total_budget"
   ]
  },
  {
   "cell_type": "code",
   "execution_count": 7,
   "metadata": {},
   "outputs": [],
   "source": [
    "avg_math = ((primary_df['Math Score'].sum()) / student_count).round(2)\n",
    "# avg_math"
   ]
  },
  {
   "cell_type": "code",
   "execution_count": 8,
   "metadata": {},
   "outputs": [],
   "source": [
    "avg_read = ((primary_df['Reading Score'].sum()) / student_count).round(2)\n",
    "# avg_read"
   ]
  },
  {
   "cell_type": "code",
   "execution_count": 9,
   "metadata": {},
   "outputs": [],
   "source": [
    "math_pass = (len(primary_df.loc[primary_df['Math Score'] >= 70]) / student_count) * 100\n",
    "# math_pass"
   ]
  },
  {
   "cell_type": "code",
   "execution_count": 10,
   "metadata": {},
   "outputs": [],
   "source": [
    "read_pass = (len(primary_df.loc[primary_df['Reading Score'] >= 70]) / student_count) * 100\n",
    "# read_pass"
   ]
  },
  {
   "cell_type": "code",
   "execution_count": 11,
   "metadata": {},
   "outputs": [],
   "source": [
    "overall_pass = (math_pass + read_pass) / 2\n",
    "# overall_pass"
   ]
  },
  {
   "cell_type": "code",
   "execution_count": 12,
   "metadata": {},
   "outputs": [],
   "source": [
    "## NOTES ['Overall Pass' & Scores by School Spending, Size, and Type] :\n",
    "\n",
    "##  Validate with client that they want this calculated in this method. \n",
    "##  This recommendation carries through all 'Overall Pass Rate' calculations in the project.\n",
    "\n",
    "##  Propose this be calculated as:\n",
    "##  ((Count of students whose avg math & reading scores >= 70) / total students) * 100\n",
    "\n",
    "##  The proposal calculates percent of all passing students (by individual average) v the less accurate straight avg formula.\n",
    "\n",
    "##    *The numbers are -significantly- different:\n",
    "##      * per overall_pass listed above, results in 80.4%\n",
    "##      * the overall_avg_pass_pct recommended here and defined below in notes, results in 89.4%\n",
    "\n",
    "# avg_overall_pass_by_student_df = primary_df\n",
    "# avg_overall_pass_by_student_df['Student Average'] = (\n",
    "#     (avg_overall_pass_by_student_df['Math Score'] \n",
    "#      + \n",
    "#      avg_overall_pass_by_student_df['Reading Score']) \n",
    "#      / 2)\n",
    "# overall_avg_mask = avg_overall_pass_by_student_df['Student Average'] >= 70\n",
    "# overall_avg_pass_pct = (len(primary_df[overall_avg_mask])/student_count) * 100\n",
    "# overall_avg_pass_pct\n",
    "\n",
    "\n",
    "##   In addition to the exceptions for each 'Overall Pass Rate', the averaging calculations within the 'Scores by School \n",
    "##   Spending', 'Scores by School Size', and 'Scores by School Type' sections in the back half of this exercise should also \n",
    "##   be reviewed for accuracy. These are showing as strict averages, rather than true averages by count. A school with 4976\n",
    "##   students is weighted equally to a school with the schools that are under 1000...this isn't accurate mathematically.\n",
    "##   The numbers should be calculated for the last 3 parts as they were in hte 'by Grade' breakdowns..."
   ]
  },
  {
   "cell_type": "code",
   "execution_count": 13,
   "metadata": {},
   "outputs": [
    {
     "data": {
      "text/html": [
       "<style  type=\"text/css\" >\n",
       "</style><table id=\"T_e0f37b14_9a4a_11e9_975c_c49ded98880f\" ><thead>    <tr>        <th class=\"blank level0\" ></th>        <th class=\"col_heading level0 col0\" >Total Schools</th>        <th class=\"col_heading level0 col1\" >Total Students</th>        <th class=\"col_heading level0 col2\" >Total Budget</th>        <th class=\"col_heading level0 col3\" >Average Math Score</th>        <th class=\"col_heading level0 col4\" >Average Reading Score</th>        <th class=\"col_heading level0 col5\" >% Passing Math</th>        <th class=\"col_heading level0 col6\" >% Passing Reading</th>        <th class=\"col_heading level0 col7\" >Overall Pass Rate</th>    </tr>    <tr>        <th class=\"index_name level0\" >SUMMARY</th>        <th class=\"blank\" ></th>        <th class=\"blank\" ></th>        <th class=\"blank\" ></th>        <th class=\"blank\" ></th>        <th class=\"blank\" ></th>        <th class=\"blank\" ></th>        <th class=\"blank\" ></th>        <th class=\"blank\" ></th>    </tr></thead><tbody>\n",
       "                <tr>\n",
       "                        <th id=\"T_e0f37b14_9a4a_11e9_975c_c49ded98880flevel0_row0\" class=\"row_heading level0 row0\" >District Results</th>\n",
       "                        <td id=\"T_e0f37b14_9a4a_11e9_975c_c49ded98880frow0_col0\" class=\"data row0 col0\" >15</td>\n",
       "                        <td id=\"T_e0f37b14_9a4a_11e9_975c_c49ded98880frow0_col1\" class=\"data row0 col1\" >39,170</td>\n",
       "                        <td id=\"T_e0f37b14_9a4a_11e9_975c_c49ded98880frow0_col2\" class=\"data row0 col2\" >$24,649,428</td>\n",
       "                        <td id=\"T_e0f37b14_9a4a_11e9_975c_c49ded98880frow0_col3\" class=\"data row0 col3\" >79.0</td>\n",
       "                        <td id=\"T_e0f37b14_9a4a_11e9_975c_c49ded98880frow0_col4\" class=\"data row0 col4\" >81.9</td>\n",
       "                        <td id=\"T_e0f37b14_9a4a_11e9_975c_c49ded98880frow0_col5\" class=\"data row0 col5\" >75.0%</td>\n",
       "                        <td id=\"T_e0f37b14_9a4a_11e9_975c_c49ded98880frow0_col6\" class=\"data row0 col6\" >85.8%</td>\n",
       "                        <td id=\"T_e0f37b14_9a4a_11e9_975c_c49ded98880frow0_col7\" class=\"data row0 col7\" >80.4%</td>\n",
       "            </tr>\n",
       "    </tbody></table>"
      ],
      "text/plain": [
       "<pandas.io.formats.style.Styler at 0x284f47e5e10>"
      ]
     },
     "execution_count": 13,
     "metadata": {},
     "output_type": "execute_result"
    }
   ],
   "source": [
    "district_summary_dict = ({'Total Schools': [school_count], \n",
    "                          'Total Students': [student_count],\n",
    "                          'Total Budget': [total_budget], \n",
    "                          'Average Math Score': [avg_math], \n",
    "                          'Average Reading Score': [avg_read], \n",
    "                          '% Passing Math': [math_pass], \n",
    "                          '% Passing Reading': [read_pass],\n",
    "                          'Overall Pass Rate': [overall_pass],\n",
    "                          'SUMMARY': 'District Results'})\n",
    "\n",
    "district_summary_table_df = pd.DataFrame(district_summary_dict)\n",
    "district_summary_table_df.set_index('SUMMARY', inplace = True)\n",
    "district_summary_fin = (district_summary_table_df.style.format(\n",
    "    {'Total Students': '{0:,d}',\n",
    "     'Total Budget': '${0:,d}',\n",
    "     'Average Math Score': '{0:,.1f}',\n",
    "     'Average Reading Score': '{0:,.1f}',\n",
    "     '% Passing Math': '{0:,.1f}%',\n",
    "     '% Passing Reading': '{0:,.1f}%',\n",
    "     'Overall Pass Rate': '{0:,.1f}%'}))\n",
    "\n",
    "district_summary_fin"
   ]
  },
  {
   "cell_type": "code",
   "execution_count": 14,
   "metadata": {},
   "outputs": [],
   "source": [
    "school_groups = primary_df.groupby('School Name')\n",
    "# school_groups.head()"
   ]
  },
  {
   "cell_type": "code",
   "execution_count": 15,
   "metadata": {},
   "outputs": [],
   "source": [
    "school_math_list = []\n",
    "for school in school_names:\n",
    "    school_mask = primary_df['School Name'] == school\n",
    "    math_mask = primary_df['Math Score'] >= 70\n",
    "    school_math_pass_count = len(primary_df[school_mask & math_mask])\n",
    "    school_math_list.append(school_math_pass_count)\n",
    "# school_math_list"
   ]
  },
  {
   "cell_type": "code",
   "execution_count": 16,
   "metadata": {},
   "outputs": [],
   "source": [
    "school_read_list = []\n",
    "for school in school_names:\n",
    "    school_mask = primary_df['School Name'] == school\n",
    "    reading_mask = primary_df['Reading Score'] >= 70\n",
    "    school_reading_pass_count = len(primary_df[school_mask & reading_mask])\n",
    "    school_read_list.append(school_reading_pass_count)\n",
    "# school_read_list"
   ]
  },
  {
   "cell_type": "code",
   "execution_count": 17,
   "metadata": {},
   "outputs": [],
   "source": [
    "students_per_school = []\n",
    "for school in school_names:\n",
    "    test_school_df = primary_df[primary_df['School Name'] == school]\n",
    "    count = test_school_df['Student ID'].nunique()\n",
    "    students_per_school.append(count)\n",
    "# students_per_school    "
   ]
  },
  {
   "cell_type": "code",
   "execution_count": 18,
   "metadata": {},
   "outputs": [],
   "source": [
    "by_school_summary_df = school_groups['School Name', 'School Type', 'Size', 'Budget'].head(1)\n",
    "by_school_summary_df.set_index('School Name', inplace = True)\n",
    "by_school_summary_df['Per Student Budget'] = (\n",
    "    by_school_summary_df['Budget']/by_school_summary_df['Size'])\n",
    "by_school_summary_df['Average Math Score'] = (\n",
    "    primary_df.groupby('School Name')['Math Score'].mean())\n",
    "by_school_summary_df['Average Reading Score'] = (\n",
    "    primary_df.groupby('School Name')['Reading Score'].mean())\n",
    "by_school_summary_df['% Passing Math'] = (\n",
    "    school_math_list / by_school_summary_df['Size'] * 100)\n",
    "by_school_summary_df['% Passing Reading'] = (\n",
    "    school_read_list / by_school_summary_df['Size'] * 100)\n",
    "by_school_summary_df['Overall Pass Rate'] = (\n",
    "    (by_school_summary_df['% Passing Math'] + by_school_summary_df['% Passing Reading']) / 2)\n",
    "by_school_summary_df.rename(columns={\"Size\": \"Total Students\", \"Budget\": \"Total School Budget\"}, inplace = True)\n",
    "by_school_summary_df.columns.name = 'SUMMARY'\n",
    "by_school_summary_fin = (by_school_summary_df.style.format(\n",
    "    {'Total Students': '{0:,d}',\n",
    "     'Total School Budget': '${0:,d}',\n",
    "     'Per Student Budget': '${0:,.2f}',\n",
    "     'Average Math Score': '{0:,.1f}',\n",
    "     'Average Reading Score': '{0:,.1f}',\n",
    "     '% Passing Math': '{0:,.1f}%',\n",
    "     '% Passing Reading': '{0:,.1f}%',\n",
    "     'Overall Pass Rate': '{0:,.1f}%'}))\n",
    "# by_school_summary_fin"
   ]
  },
  {
   "cell_type": "code",
   "execution_count": 19,
   "metadata": {},
   "outputs": [
    {
     "data": {
      "text/html": [
       "<style  type=\"text/css\" >\n",
       "</style><table id=\"T_e655a186_9a4a_11e9_9469_c49ded98880f\" ><thead>    <tr>        <th class=\"index_name level0\" >Top Performing Schools</th>        <th class=\"col_heading level0 col0\" >School Type</th>        <th class=\"col_heading level0 col1\" >Total Students</th>        <th class=\"col_heading level0 col2\" >Total School Budget</th>        <th class=\"col_heading level0 col3\" >Per Student Budget</th>        <th class=\"col_heading level0 col4\" >Average Math Score</th>        <th class=\"col_heading level0 col5\" >Average Reading Score</th>        <th class=\"col_heading level0 col6\" >% Passing Math</th>        <th class=\"col_heading level0 col7\" >% Passing Reading</th>        <th class=\"col_heading level0 col8\" >Overall Pass Rate</th>    </tr>    <tr>        <th class=\"index_name level0\" >School Name</th>        <th class=\"blank\" ></th>        <th class=\"blank\" ></th>        <th class=\"blank\" ></th>        <th class=\"blank\" ></th>        <th class=\"blank\" ></th>        <th class=\"blank\" ></th>        <th class=\"blank\" ></th>        <th class=\"blank\" ></th>        <th class=\"blank\" ></th>    </tr></thead><tbody>\n",
       "                <tr>\n",
       "                        <th id=\"T_e655a186_9a4a_11e9_9469_c49ded98880flevel0_row0\" class=\"row_heading level0 row0\" >Cabrera High School</th>\n",
       "                        <td id=\"T_e655a186_9a4a_11e9_9469_c49ded98880frow0_col0\" class=\"data row0 col0\" >Charter</td>\n",
       "                        <td id=\"T_e655a186_9a4a_11e9_9469_c49ded98880frow0_col1\" class=\"data row0 col1\" >1,858</td>\n",
       "                        <td id=\"T_e655a186_9a4a_11e9_9469_c49ded98880frow0_col2\" class=\"data row0 col2\" >$1,081,356</td>\n",
       "                        <td id=\"T_e655a186_9a4a_11e9_9469_c49ded98880frow0_col3\" class=\"data row0 col3\" >$582.00</td>\n",
       "                        <td id=\"T_e655a186_9a4a_11e9_9469_c49ded98880frow0_col4\" class=\"data row0 col4\" >83.1</td>\n",
       "                        <td id=\"T_e655a186_9a4a_11e9_9469_c49ded98880frow0_col5\" class=\"data row0 col5\" >84.0</td>\n",
       "                        <td id=\"T_e655a186_9a4a_11e9_9469_c49ded98880frow0_col6\" class=\"data row0 col6\" >94.1%</td>\n",
       "                        <td id=\"T_e655a186_9a4a_11e9_9469_c49ded98880frow0_col7\" class=\"data row0 col7\" >97.0%</td>\n",
       "                        <td id=\"T_e655a186_9a4a_11e9_9469_c49ded98880frow0_col8\" class=\"data row0 col8\" >95.6%</td>\n",
       "            </tr>\n",
       "            <tr>\n",
       "                        <th id=\"T_e655a186_9a4a_11e9_9469_c49ded98880flevel0_row1\" class=\"row_heading level0 row1\" >Thomas High School</th>\n",
       "                        <td id=\"T_e655a186_9a4a_11e9_9469_c49ded98880frow1_col0\" class=\"data row1 col0\" >Charter</td>\n",
       "                        <td id=\"T_e655a186_9a4a_11e9_9469_c49ded98880frow1_col1\" class=\"data row1 col1\" >1,635</td>\n",
       "                        <td id=\"T_e655a186_9a4a_11e9_9469_c49ded98880frow1_col2\" class=\"data row1 col2\" >$1,043,130</td>\n",
       "                        <td id=\"T_e655a186_9a4a_11e9_9469_c49ded98880frow1_col3\" class=\"data row1 col3\" >$638.00</td>\n",
       "                        <td id=\"T_e655a186_9a4a_11e9_9469_c49ded98880frow1_col4\" class=\"data row1 col4\" >83.4</td>\n",
       "                        <td id=\"T_e655a186_9a4a_11e9_9469_c49ded98880frow1_col5\" class=\"data row1 col5\" >83.8</td>\n",
       "                        <td id=\"T_e655a186_9a4a_11e9_9469_c49ded98880frow1_col6\" class=\"data row1 col6\" >93.3%</td>\n",
       "                        <td id=\"T_e655a186_9a4a_11e9_9469_c49ded98880frow1_col7\" class=\"data row1 col7\" >97.3%</td>\n",
       "                        <td id=\"T_e655a186_9a4a_11e9_9469_c49ded98880frow1_col8\" class=\"data row1 col8\" >95.3%</td>\n",
       "            </tr>\n",
       "            <tr>\n",
       "                        <th id=\"T_e655a186_9a4a_11e9_9469_c49ded98880flevel0_row2\" class=\"row_heading level0 row2\" >Pena High School</th>\n",
       "                        <td id=\"T_e655a186_9a4a_11e9_9469_c49ded98880frow2_col0\" class=\"data row2 col0\" >Charter</td>\n",
       "                        <td id=\"T_e655a186_9a4a_11e9_9469_c49ded98880frow2_col1\" class=\"data row2 col1\" >962</td>\n",
       "                        <td id=\"T_e655a186_9a4a_11e9_9469_c49ded98880frow2_col2\" class=\"data row2 col2\" >$585,858</td>\n",
       "                        <td id=\"T_e655a186_9a4a_11e9_9469_c49ded98880frow2_col3\" class=\"data row2 col3\" >$609.00</td>\n",
       "                        <td id=\"T_e655a186_9a4a_11e9_9469_c49ded98880frow2_col4\" class=\"data row2 col4\" >83.8</td>\n",
       "                        <td id=\"T_e655a186_9a4a_11e9_9469_c49ded98880frow2_col5\" class=\"data row2 col5\" >84.0</td>\n",
       "                        <td id=\"T_e655a186_9a4a_11e9_9469_c49ded98880frow2_col6\" class=\"data row2 col6\" >94.6%</td>\n",
       "                        <td id=\"T_e655a186_9a4a_11e9_9469_c49ded98880frow2_col7\" class=\"data row2 col7\" >95.9%</td>\n",
       "                        <td id=\"T_e655a186_9a4a_11e9_9469_c49ded98880frow2_col8\" class=\"data row2 col8\" >95.3%</td>\n",
       "            </tr>\n",
       "            <tr>\n",
       "                        <th id=\"T_e655a186_9a4a_11e9_9469_c49ded98880flevel0_row3\" class=\"row_heading level0 row3\" >Griffin High School</th>\n",
       "                        <td id=\"T_e655a186_9a4a_11e9_9469_c49ded98880frow3_col0\" class=\"data row3 col0\" >Charter</td>\n",
       "                        <td id=\"T_e655a186_9a4a_11e9_9469_c49ded98880frow3_col1\" class=\"data row3 col1\" >1,468</td>\n",
       "                        <td id=\"T_e655a186_9a4a_11e9_9469_c49ded98880frow3_col2\" class=\"data row3 col2\" >$917,500</td>\n",
       "                        <td id=\"T_e655a186_9a4a_11e9_9469_c49ded98880frow3_col3\" class=\"data row3 col3\" >$625.00</td>\n",
       "                        <td id=\"T_e655a186_9a4a_11e9_9469_c49ded98880frow3_col4\" class=\"data row3 col4\" >83.4</td>\n",
       "                        <td id=\"T_e655a186_9a4a_11e9_9469_c49ded98880frow3_col5\" class=\"data row3 col5\" >83.8</td>\n",
       "                        <td id=\"T_e655a186_9a4a_11e9_9469_c49ded98880frow3_col6\" class=\"data row3 col6\" >93.4%</td>\n",
       "                        <td id=\"T_e655a186_9a4a_11e9_9469_c49ded98880frow3_col7\" class=\"data row3 col7\" >97.1%</td>\n",
       "                        <td id=\"T_e655a186_9a4a_11e9_9469_c49ded98880frow3_col8\" class=\"data row3 col8\" >95.3%</td>\n",
       "            </tr>\n",
       "            <tr>\n",
       "                        <th id=\"T_e655a186_9a4a_11e9_9469_c49ded98880flevel0_row4\" class=\"row_heading level0 row4\" >Wilson High School</th>\n",
       "                        <td id=\"T_e655a186_9a4a_11e9_9469_c49ded98880frow4_col0\" class=\"data row4 col0\" >Charter</td>\n",
       "                        <td id=\"T_e655a186_9a4a_11e9_9469_c49ded98880frow4_col1\" class=\"data row4 col1\" >2,283</td>\n",
       "                        <td id=\"T_e655a186_9a4a_11e9_9469_c49ded98880frow4_col2\" class=\"data row4 col2\" >$1,319,574</td>\n",
       "                        <td id=\"T_e655a186_9a4a_11e9_9469_c49ded98880frow4_col3\" class=\"data row4 col3\" >$578.00</td>\n",
       "                        <td id=\"T_e655a186_9a4a_11e9_9469_c49ded98880frow4_col4\" class=\"data row4 col4\" >83.3</td>\n",
       "                        <td id=\"T_e655a186_9a4a_11e9_9469_c49ded98880frow4_col5\" class=\"data row4 col5\" >84.0</td>\n",
       "                        <td id=\"T_e655a186_9a4a_11e9_9469_c49ded98880frow4_col6\" class=\"data row4 col6\" >93.9%</td>\n",
       "                        <td id=\"T_e655a186_9a4a_11e9_9469_c49ded98880frow4_col7\" class=\"data row4 col7\" >96.5%</td>\n",
       "                        <td id=\"T_e655a186_9a4a_11e9_9469_c49ded98880frow4_col8\" class=\"data row4 col8\" >95.2%</td>\n",
       "            </tr>\n",
       "    </tbody></table>"
      ],
      "text/plain": [
       "<pandas.io.formats.style.Styler at 0x284f24cfba8>"
      ]
     },
     "execution_count": 19,
     "metadata": {},
     "output_type": "execute_result"
    }
   ],
   "source": [
    "top_5_schools_df = by_school_summary_df.nlargest(5, 'Overall Pass Rate')\n",
    "top_5_schools_df.columns.name = 'Top Performing Schools'\n",
    "top_5_schools_fin = (top_5_schools_df.style.format(\n",
    "    {'Total Students': '{0:,d}',\n",
    "     'Total School Budget': '${0:,d}',\n",
    "     'Per Student Budget': '${0:,.2f}',\n",
    "     'Average Math Score': '{0:,.1f}',\n",
    "     'Average Reading Score': '{0:,.1f}',\n",
    "     '% Passing Math': '{0:,.1f}%',\n",
    "     '% Passing Reading': '{0:,.1f}%',\n",
    "     'Overall Pass Rate': '{0:,.1f}%'}))\n",
    "top_5_schools_fin"
   ]
  },
  {
   "cell_type": "code",
   "execution_count": 20,
   "metadata": {},
   "outputs": [
    {
     "data": {
      "text/html": [
       "<style  type=\"text/css\" >\n",
       "</style><table id=\"T_e7ddcd4c_9a4a_11e9_8b3e_c49ded98880f\" ><thead>    <tr>        <th class=\"index_name level0\" >Schools Needing Focus</th>        <th class=\"col_heading level0 col0\" >School Type</th>        <th class=\"col_heading level0 col1\" >Total Students</th>        <th class=\"col_heading level0 col2\" >Total School Budget</th>        <th class=\"col_heading level0 col3\" >Per Student Budget</th>        <th class=\"col_heading level0 col4\" >Average Math Score</th>        <th class=\"col_heading level0 col5\" >Average Reading Score</th>        <th class=\"col_heading level0 col6\" >% Passing Math</th>        <th class=\"col_heading level0 col7\" >% Passing Reading</th>        <th class=\"col_heading level0 col8\" >Overall Pass Rate</th>    </tr>    <tr>        <th class=\"index_name level0\" >School Name</th>        <th class=\"blank\" ></th>        <th class=\"blank\" ></th>        <th class=\"blank\" ></th>        <th class=\"blank\" ></th>        <th class=\"blank\" ></th>        <th class=\"blank\" ></th>        <th class=\"blank\" ></th>        <th class=\"blank\" ></th>        <th class=\"blank\" ></th>    </tr></thead><tbody>\n",
       "                <tr>\n",
       "                        <th id=\"T_e7ddcd4c_9a4a_11e9_8b3e_c49ded98880flevel0_row0\" class=\"row_heading level0 row0\" >Rodriguez High School</th>\n",
       "                        <td id=\"T_e7ddcd4c_9a4a_11e9_8b3e_c49ded98880frow0_col0\" class=\"data row0 col0\" >District</td>\n",
       "                        <td id=\"T_e7ddcd4c_9a4a_11e9_8b3e_c49ded98880frow0_col1\" class=\"data row0 col1\" >3,999</td>\n",
       "                        <td id=\"T_e7ddcd4c_9a4a_11e9_8b3e_c49ded98880frow0_col2\" class=\"data row0 col2\" >$2,547,363</td>\n",
       "                        <td id=\"T_e7ddcd4c_9a4a_11e9_8b3e_c49ded98880frow0_col3\" class=\"data row0 col3\" >$637.00</td>\n",
       "                        <td id=\"T_e7ddcd4c_9a4a_11e9_8b3e_c49ded98880frow0_col4\" class=\"data row0 col4\" >76.8</td>\n",
       "                        <td id=\"T_e7ddcd4c_9a4a_11e9_8b3e_c49ded98880frow0_col5\" class=\"data row0 col5\" >80.7</td>\n",
       "                        <td id=\"T_e7ddcd4c_9a4a_11e9_8b3e_c49ded98880frow0_col6\" class=\"data row0 col6\" >66.4%</td>\n",
       "                        <td id=\"T_e7ddcd4c_9a4a_11e9_8b3e_c49ded98880frow0_col7\" class=\"data row0 col7\" >80.2%</td>\n",
       "                        <td id=\"T_e7ddcd4c_9a4a_11e9_8b3e_c49ded98880frow0_col8\" class=\"data row0 col8\" >73.3%</td>\n",
       "            </tr>\n",
       "            <tr>\n",
       "                        <th id=\"T_e7ddcd4c_9a4a_11e9_8b3e_c49ded98880flevel0_row1\" class=\"row_heading level0 row1\" >Figueroa High School</th>\n",
       "                        <td id=\"T_e7ddcd4c_9a4a_11e9_8b3e_c49ded98880frow1_col0\" class=\"data row1 col0\" >District</td>\n",
       "                        <td id=\"T_e7ddcd4c_9a4a_11e9_8b3e_c49ded98880frow1_col1\" class=\"data row1 col1\" >2,949</td>\n",
       "                        <td id=\"T_e7ddcd4c_9a4a_11e9_8b3e_c49ded98880frow1_col2\" class=\"data row1 col2\" >$1,884,411</td>\n",
       "                        <td id=\"T_e7ddcd4c_9a4a_11e9_8b3e_c49ded98880frow1_col3\" class=\"data row1 col3\" >$639.00</td>\n",
       "                        <td id=\"T_e7ddcd4c_9a4a_11e9_8b3e_c49ded98880frow1_col4\" class=\"data row1 col4\" >76.7</td>\n",
       "                        <td id=\"T_e7ddcd4c_9a4a_11e9_8b3e_c49ded98880frow1_col5\" class=\"data row1 col5\" >81.2</td>\n",
       "                        <td id=\"T_e7ddcd4c_9a4a_11e9_8b3e_c49ded98880frow1_col6\" class=\"data row1 col6\" >66.0%</td>\n",
       "                        <td id=\"T_e7ddcd4c_9a4a_11e9_8b3e_c49ded98880frow1_col7\" class=\"data row1 col7\" >80.7%</td>\n",
       "                        <td id=\"T_e7ddcd4c_9a4a_11e9_8b3e_c49ded98880frow1_col8\" class=\"data row1 col8\" >73.4%</td>\n",
       "            </tr>\n",
       "            <tr>\n",
       "                        <th id=\"T_e7ddcd4c_9a4a_11e9_8b3e_c49ded98880flevel0_row2\" class=\"row_heading level0 row2\" >Huang High School</th>\n",
       "                        <td id=\"T_e7ddcd4c_9a4a_11e9_8b3e_c49ded98880frow2_col0\" class=\"data row2 col0\" >District</td>\n",
       "                        <td id=\"T_e7ddcd4c_9a4a_11e9_8b3e_c49ded98880frow2_col1\" class=\"data row2 col1\" >2,917</td>\n",
       "                        <td id=\"T_e7ddcd4c_9a4a_11e9_8b3e_c49ded98880frow2_col2\" class=\"data row2 col2\" >$1,910,635</td>\n",
       "                        <td id=\"T_e7ddcd4c_9a4a_11e9_8b3e_c49ded98880frow2_col3\" class=\"data row2 col3\" >$655.00</td>\n",
       "                        <td id=\"T_e7ddcd4c_9a4a_11e9_8b3e_c49ded98880frow2_col4\" class=\"data row2 col4\" >76.6</td>\n",
       "                        <td id=\"T_e7ddcd4c_9a4a_11e9_8b3e_c49ded98880frow2_col5\" class=\"data row2 col5\" >81.2</td>\n",
       "                        <td id=\"T_e7ddcd4c_9a4a_11e9_8b3e_c49ded98880frow2_col6\" class=\"data row2 col6\" >65.7%</td>\n",
       "                        <td id=\"T_e7ddcd4c_9a4a_11e9_8b3e_c49ded98880frow2_col7\" class=\"data row2 col7\" >81.3%</td>\n",
       "                        <td id=\"T_e7ddcd4c_9a4a_11e9_8b3e_c49ded98880frow2_col8\" class=\"data row2 col8\" >73.5%</td>\n",
       "            </tr>\n",
       "            <tr>\n",
       "                        <th id=\"T_e7ddcd4c_9a4a_11e9_8b3e_c49ded98880flevel0_row3\" class=\"row_heading level0 row3\" >Johnson High School</th>\n",
       "                        <td id=\"T_e7ddcd4c_9a4a_11e9_8b3e_c49ded98880frow3_col0\" class=\"data row3 col0\" >District</td>\n",
       "                        <td id=\"T_e7ddcd4c_9a4a_11e9_8b3e_c49ded98880frow3_col1\" class=\"data row3 col1\" >4,761</td>\n",
       "                        <td id=\"T_e7ddcd4c_9a4a_11e9_8b3e_c49ded98880frow3_col2\" class=\"data row3 col2\" >$3,094,650</td>\n",
       "                        <td id=\"T_e7ddcd4c_9a4a_11e9_8b3e_c49ded98880frow3_col3\" class=\"data row3 col3\" >$650.00</td>\n",
       "                        <td id=\"T_e7ddcd4c_9a4a_11e9_8b3e_c49ded98880frow3_col4\" class=\"data row3 col4\" >77.1</td>\n",
       "                        <td id=\"T_e7ddcd4c_9a4a_11e9_8b3e_c49ded98880frow3_col5\" class=\"data row3 col5\" >81.0</td>\n",
       "                        <td id=\"T_e7ddcd4c_9a4a_11e9_8b3e_c49ded98880frow3_col6\" class=\"data row3 col6\" >66.1%</td>\n",
       "                        <td id=\"T_e7ddcd4c_9a4a_11e9_8b3e_c49ded98880frow3_col7\" class=\"data row3 col7\" >81.2%</td>\n",
       "                        <td id=\"T_e7ddcd4c_9a4a_11e9_8b3e_c49ded98880frow3_col8\" class=\"data row3 col8\" >73.6%</td>\n",
       "            </tr>\n",
       "            <tr>\n",
       "                        <th id=\"T_e7ddcd4c_9a4a_11e9_8b3e_c49ded98880flevel0_row4\" class=\"row_heading level0 row4\" >Ford High School</th>\n",
       "                        <td id=\"T_e7ddcd4c_9a4a_11e9_8b3e_c49ded98880frow4_col0\" class=\"data row4 col0\" >District</td>\n",
       "                        <td id=\"T_e7ddcd4c_9a4a_11e9_8b3e_c49ded98880frow4_col1\" class=\"data row4 col1\" >2,739</td>\n",
       "                        <td id=\"T_e7ddcd4c_9a4a_11e9_8b3e_c49ded98880frow4_col2\" class=\"data row4 col2\" >$1,763,916</td>\n",
       "                        <td id=\"T_e7ddcd4c_9a4a_11e9_8b3e_c49ded98880frow4_col3\" class=\"data row4 col3\" >$644.00</td>\n",
       "                        <td id=\"T_e7ddcd4c_9a4a_11e9_8b3e_c49ded98880frow4_col4\" class=\"data row4 col4\" >77.1</td>\n",
       "                        <td id=\"T_e7ddcd4c_9a4a_11e9_8b3e_c49ded98880frow4_col5\" class=\"data row4 col5\" >80.7</td>\n",
       "                        <td id=\"T_e7ddcd4c_9a4a_11e9_8b3e_c49ded98880frow4_col6\" class=\"data row4 col6\" >68.3%</td>\n",
       "                        <td id=\"T_e7ddcd4c_9a4a_11e9_8b3e_c49ded98880frow4_col7\" class=\"data row4 col7\" >79.3%</td>\n",
       "                        <td id=\"T_e7ddcd4c_9a4a_11e9_8b3e_c49ded98880frow4_col8\" class=\"data row4 col8\" >73.8%</td>\n",
       "            </tr>\n",
       "    </tbody></table>"
      ],
      "text/plain": [
       "<pandas.io.formats.style.Styler at 0x284f5bbbf28>"
      ]
     },
     "execution_count": 20,
     "metadata": {},
     "output_type": "execute_result"
    }
   ],
   "source": [
    "bottom_5_schools_df = by_school_summary_df.nsmallest(5, 'Overall Pass Rate')\n",
    "bottom_5_schools_df.columns.name = 'Schools Needing Focus'\n",
    "bottom_5_schools_fin = (bottom_5_schools_df.style.format(\n",
    "    {'Total Students': '{0:,d}',\n",
    "     'Total School Budget': '${0:,d}',\n",
    "     'Per Student Budget': '${0:,.2f}',\n",
    "     'Average Math Score': '{0:,.1f}',\n",
    "     'Average Reading Score': '{0:,.1f}',\n",
    "     '% Passing Math': '{0:,.1f}%',\n",
    "     '% Passing Reading': '{0:,.1f}%',\n",
    "     'Overall Pass Rate': '{0:,.1f}%'}))\n",
    "bottom_5_schools_fin"
   ]
  },
  {
   "cell_type": "code",
   "execution_count": 21,
   "metadata": {},
   "outputs": [],
   "source": [
    "frosh_math = primary_df[primary_df['Grade'] == '9th']\n",
    "frosh_math_df = frosh_math.groupby(['School Name']).mean()\n",
    "frosh_math_df = frosh_math_df['Math Score'].to_frame()\n",
    "# frosh_math_df"
   ]
  },
  {
   "cell_type": "code",
   "execution_count": 22,
   "metadata": {},
   "outputs": [],
   "source": [
    "soph_math = primary_df[primary_df['Grade'] == '10th']\n",
    "soph_math_df = soph_math.groupby(['School Name']).mean()\n",
    "soph_math_df = soph_math_df['Math Score'].to_frame()\n",
    "# soph_math_df"
   ]
  },
  {
   "cell_type": "code",
   "execution_count": 23,
   "metadata": {},
   "outputs": [],
   "source": [
    "junior_math = primary_df[primary_df['Grade'] == '11th']\n",
    "junior_math_df = junior_math.groupby(['School Name']).mean()\n",
    "junior_math_df = junior_math_df['Math Score'].to_frame()\n",
    "# junior_math_df"
   ]
  },
  {
   "cell_type": "code",
   "execution_count": 24,
   "metadata": {},
   "outputs": [],
   "source": [
    "senior_math = primary_df[primary_df['Grade'] == '12th']\n",
    "senior_math_df = senior_math.groupby(['School Name']).mean()\n",
    "senior_math_df = senior_math_df['Math Score'].to_frame()\n",
    "# senior_math_df"
   ]
  },
  {
   "cell_type": "code",
   "execution_count": 25,
   "metadata": {},
   "outputs": [
    {
     "data": {
      "text/html": [
       "<style  type=\"text/css\" >\n",
       "</style><table id=\"T_eb96e99c_9a4a_11e9_b2c1_c49ded98880f\" ><thead>    <tr>        <th class=\"index_name level0\" >Average Math Scores</th>        <th class=\"col_heading level0 col0\" >9th Grade</th>        <th class=\"col_heading level0 col1\" >10th Grade</th>        <th class=\"col_heading level0 col2\" >11th Grade</th>        <th class=\"col_heading level0 col3\" >12th Grade</th>    </tr>    <tr>        <th class=\"index_name level0\" >School Name</th>        <th class=\"blank\" ></th>        <th class=\"blank\" ></th>        <th class=\"blank\" ></th>        <th class=\"blank\" ></th>    </tr></thead><tbody>\n",
       "                <tr>\n",
       "                        <th id=\"T_eb96e99c_9a4a_11e9_b2c1_c49ded98880flevel0_row0\" class=\"row_heading level0 row0\" >Bailey High School</th>\n",
       "                        <td id=\"T_eb96e99c_9a4a_11e9_b2c1_c49ded98880frow0_col0\" class=\"data row0 col0\" >77.1%</td>\n",
       "                        <td id=\"T_eb96e99c_9a4a_11e9_b2c1_c49ded98880frow0_col1\" class=\"data row0 col1\" >77.0%</td>\n",
       "                        <td id=\"T_eb96e99c_9a4a_11e9_b2c1_c49ded98880frow0_col2\" class=\"data row0 col2\" >77.5%</td>\n",
       "                        <td id=\"T_eb96e99c_9a4a_11e9_b2c1_c49ded98880frow0_col3\" class=\"data row0 col3\" >76.5%</td>\n",
       "            </tr>\n",
       "            <tr>\n",
       "                        <th id=\"T_eb96e99c_9a4a_11e9_b2c1_c49ded98880flevel0_row1\" class=\"row_heading level0 row1\" >Cabrera High School</th>\n",
       "                        <td id=\"T_eb96e99c_9a4a_11e9_b2c1_c49ded98880frow1_col0\" class=\"data row1 col0\" >83.1%</td>\n",
       "                        <td id=\"T_eb96e99c_9a4a_11e9_b2c1_c49ded98880frow1_col1\" class=\"data row1 col1\" >83.2%</td>\n",
       "                        <td id=\"T_eb96e99c_9a4a_11e9_b2c1_c49ded98880frow1_col2\" class=\"data row1 col2\" >82.8%</td>\n",
       "                        <td id=\"T_eb96e99c_9a4a_11e9_b2c1_c49ded98880frow1_col3\" class=\"data row1 col3\" >83.3%</td>\n",
       "            </tr>\n",
       "            <tr>\n",
       "                        <th id=\"T_eb96e99c_9a4a_11e9_b2c1_c49ded98880flevel0_row2\" class=\"row_heading level0 row2\" >Figueroa High School</th>\n",
       "                        <td id=\"T_eb96e99c_9a4a_11e9_b2c1_c49ded98880frow2_col0\" class=\"data row2 col0\" >76.4%</td>\n",
       "                        <td id=\"T_eb96e99c_9a4a_11e9_b2c1_c49ded98880frow2_col1\" class=\"data row2 col1\" >76.5%</td>\n",
       "                        <td id=\"T_eb96e99c_9a4a_11e9_b2c1_c49ded98880frow2_col2\" class=\"data row2 col2\" >76.9%</td>\n",
       "                        <td id=\"T_eb96e99c_9a4a_11e9_b2c1_c49ded98880frow2_col3\" class=\"data row2 col3\" >77.2%</td>\n",
       "            </tr>\n",
       "            <tr>\n",
       "                        <th id=\"T_eb96e99c_9a4a_11e9_b2c1_c49ded98880flevel0_row3\" class=\"row_heading level0 row3\" >Ford High School</th>\n",
       "                        <td id=\"T_eb96e99c_9a4a_11e9_b2c1_c49ded98880frow3_col0\" class=\"data row3 col0\" >77.4%</td>\n",
       "                        <td id=\"T_eb96e99c_9a4a_11e9_b2c1_c49ded98880frow3_col1\" class=\"data row3 col1\" >77.7%</td>\n",
       "                        <td id=\"T_eb96e99c_9a4a_11e9_b2c1_c49ded98880frow3_col2\" class=\"data row3 col2\" >76.9%</td>\n",
       "                        <td id=\"T_eb96e99c_9a4a_11e9_b2c1_c49ded98880frow3_col3\" class=\"data row3 col3\" >76.2%</td>\n",
       "            </tr>\n",
       "            <tr>\n",
       "                        <th id=\"T_eb96e99c_9a4a_11e9_b2c1_c49ded98880flevel0_row4\" class=\"row_heading level0 row4\" >Griffin High School</th>\n",
       "                        <td id=\"T_eb96e99c_9a4a_11e9_b2c1_c49ded98880frow4_col0\" class=\"data row4 col0\" >82.0%</td>\n",
       "                        <td id=\"T_eb96e99c_9a4a_11e9_b2c1_c49ded98880frow4_col1\" class=\"data row4 col1\" >84.2%</td>\n",
       "                        <td id=\"T_eb96e99c_9a4a_11e9_b2c1_c49ded98880frow4_col2\" class=\"data row4 col2\" >83.8%</td>\n",
       "                        <td id=\"T_eb96e99c_9a4a_11e9_b2c1_c49ded98880frow4_col3\" class=\"data row4 col3\" >83.4%</td>\n",
       "            </tr>\n",
       "            <tr>\n",
       "                        <th id=\"T_eb96e99c_9a4a_11e9_b2c1_c49ded98880flevel0_row5\" class=\"row_heading level0 row5\" >Hernandez High School</th>\n",
       "                        <td id=\"T_eb96e99c_9a4a_11e9_b2c1_c49ded98880frow5_col0\" class=\"data row5 col0\" >77.4%</td>\n",
       "                        <td id=\"T_eb96e99c_9a4a_11e9_b2c1_c49ded98880frow5_col1\" class=\"data row5 col1\" >77.3%</td>\n",
       "                        <td id=\"T_eb96e99c_9a4a_11e9_b2c1_c49ded98880frow5_col2\" class=\"data row5 col2\" >77.1%</td>\n",
       "                        <td id=\"T_eb96e99c_9a4a_11e9_b2c1_c49ded98880frow5_col3\" class=\"data row5 col3\" >77.2%</td>\n",
       "            </tr>\n",
       "            <tr>\n",
       "                        <th id=\"T_eb96e99c_9a4a_11e9_b2c1_c49ded98880flevel0_row6\" class=\"row_heading level0 row6\" >Holden High School</th>\n",
       "                        <td id=\"T_eb96e99c_9a4a_11e9_b2c1_c49ded98880frow6_col0\" class=\"data row6 col0\" >83.8%</td>\n",
       "                        <td id=\"T_eb96e99c_9a4a_11e9_b2c1_c49ded98880frow6_col1\" class=\"data row6 col1\" >83.4%</td>\n",
       "                        <td id=\"T_eb96e99c_9a4a_11e9_b2c1_c49ded98880frow6_col2\" class=\"data row6 col2\" >85.0%</td>\n",
       "                        <td id=\"T_eb96e99c_9a4a_11e9_b2c1_c49ded98880frow6_col3\" class=\"data row6 col3\" >82.9%</td>\n",
       "            </tr>\n",
       "            <tr>\n",
       "                        <th id=\"T_eb96e99c_9a4a_11e9_b2c1_c49ded98880flevel0_row7\" class=\"row_heading level0 row7\" >Huang High School</th>\n",
       "                        <td id=\"T_eb96e99c_9a4a_11e9_b2c1_c49ded98880frow7_col0\" class=\"data row7 col0\" >77.0%</td>\n",
       "                        <td id=\"T_eb96e99c_9a4a_11e9_b2c1_c49ded98880frow7_col1\" class=\"data row7 col1\" >75.9%</td>\n",
       "                        <td id=\"T_eb96e99c_9a4a_11e9_b2c1_c49ded98880frow7_col2\" class=\"data row7 col2\" >76.4%</td>\n",
       "                        <td id=\"T_eb96e99c_9a4a_11e9_b2c1_c49ded98880frow7_col3\" class=\"data row7 col3\" >77.2%</td>\n",
       "            </tr>\n",
       "            <tr>\n",
       "                        <th id=\"T_eb96e99c_9a4a_11e9_b2c1_c49ded98880flevel0_row8\" class=\"row_heading level0 row8\" >Johnson High School</th>\n",
       "                        <td id=\"T_eb96e99c_9a4a_11e9_b2c1_c49ded98880frow8_col0\" class=\"data row8 col0\" >77.2%</td>\n",
       "                        <td id=\"T_eb96e99c_9a4a_11e9_b2c1_c49ded98880frow8_col1\" class=\"data row8 col1\" >76.7%</td>\n",
       "                        <td id=\"T_eb96e99c_9a4a_11e9_b2c1_c49ded98880frow8_col2\" class=\"data row8 col2\" >77.5%</td>\n",
       "                        <td id=\"T_eb96e99c_9a4a_11e9_b2c1_c49ded98880frow8_col3\" class=\"data row8 col3\" >76.9%</td>\n",
       "            </tr>\n",
       "            <tr>\n",
       "                        <th id=\"T_eb96e99c_9a4a_11e9_b2c1_c49ded98880flevel0_row9\" class=\"row_heading level0 row9\" >Pena High School</th>\n",
       "                        <td id=\"T_eb96e99c_9a4a_11e9_b2c1_c49ded98880frow9_col0\" class=\"data row9 col0\" >83.6%</td>\n",
       "                        <td id=\"T_eb96e99c_9a4a_11e9_b2c1_c49ded98880frow9_col1\" class=\"data row9 col1\" >83.4%</td>\n",
       "                        <td id=\"T_eb96e99c_9a4a_11e9_b2c1_c49ded98880frow9_col2\" class=\"data row9 col2\" >84.3%</td>\n",
       "                        <td id=\"T_eb96e99c_9a4a_11e9_b2c1_c49ded98880frow9_col3\" class=\"data row9 col3\" >84.1%</td>\n",
       "            </tr>\n",
       "            <tr>\n",
       "                        <th id=\"T_eb96e99c_9a4a_11e9_b2c1_c49ded98880flevel0_row10\" class=\"row_heading level0 row10\" >Rodriguez High School</th>\n",
       "                        <td id=\"T_eb96e99c_9a4a_11e9_b2c1_c49ded98880frow10_col0\" class=\"data row10 col0\" >76.9%</td>\n",
       "                        <td id=\"T_eb96e99c_9a4a_11e9_b2c1_c49ded98880frow10_col1\" class=\"data row10 col1\" >76.6%</td>\n",
       "                        <td id=\"T_eb96e99c_9a4a_11e9_b2c1_c49ded98880frow10_col2\" class=\"data row10 col2\" >76.4%</td>\n",
       "                        <td id=\"T_eb96e99c_9a4a_11e9_b2c1_c49ded98880frow10_col3\" class=\"data row10 col3\" >77.7%</td>\n",
       "            </tr>\n",
       "            <tr>\n",
       "                        <th id=\"T_eb96e99c_9a4a_11e9_b2c1_c49ded98880flevel0_row11\" class=\"row_heading level0 row11\" >Shelton High School</th>\n",
       "                        <td id=\"T_eb96e99c_9a4a_11e9_b2c1_c49ded98880frow11_col0\" class=\"data row11 col0\" >83.4%</td>\n",
       "                        <td id=\"T_eb96e99c_9a4a_11e9_b2c1_c49ded98880frow11_col1\" class=\"data row11 col1\" >82.9%</td>\n",
       "                        <td id=\"T_eb96e99c_9a4a_11e9_b2c1_c49ded98880frow11_col2\" class=\"data row11 col2\" >83.4%</td>\n",
       "                        <td id=\"T_eb96e99c_9a4a_11e9_b2c1_c49ded98880frow11_col3\" class=\"data row11 col3\" >83.8%</td>\n",
       "            </tr>\n",
       "            <tr>\n",
       "                        <th id=\"T_eb96e99c_9a4a_11e9_b2c1_c49ded98880flevel0_row12\" class=\"row_heading level0 row12\" >Thomas High School</th>\n",
       "                        <td id=\"T_eb96e99c_9a4a_11e9_b2c1_c49ded98880frow12_col0\" class=\"data row12 col0\" >83.6%</td>\n",
       "                        <td id=\"T_eb96e99c_9a4a_11e9_b2c1_c49ded98880frow12_col1\" class=\"data row12 col1\" >83.1%</td>\n",
       "                        <td id=\"T_eb96e99c_9a4a_11e9_b2c1_c49ded98880frow12_col2\" class=\"data row12 col2\" >83.5%</td>\n",
       "                        <td id=\"T_eb96e99c_9a4a_11e9_b2c1_c49ded98880frow12_col3\" class=\"data row12 col3\" >83.5%</td>\n",
       "            </tr>\n",
       "            <tr>\n",
       "                        <th id=\"T_eb96e99c_9a4a_11e9_b2c1_c49ded98880flevel0_row13\" class=\"row_heading level0 row13\" >Wilson High School</th>\n",
       "                        <td id=\"T_eb96e99c_9a4a_11e9_b2c1_c49ded98880frow13_col0\" class=\"data row13 col0\" >83.1%</td>\n",
       "                        <td id=\"T_eb96e99c_9a4a_11e9_b2c1_c49ded98880frow13_col1\" class=\"data row13 col1\" >83.7%</td>\n",
       "                        <td id=\"T_eb96e99c_9a4a_11e9_b2c1_c49ded98880frow13_col2\" class=\"data row13 col2\" >83.2%</td>\n",
       "                        <td id=\"T_eb96e99c_9a4a_11e9_b2c1_c49ded98880frow13_col3\" class=\"data row13 col3\" >83.0%</td>\n",
       "            </tr>\n",
       "            <tr>\n",
       "                        <th id=\"T_eb96e99c_9a4a_11e9_b2c1_c49ded98880flevel0_row14\" class=\"row_heading level0 row14\" >Wright High School</th>\n",
       "                        <td id=\"T_eb96e99c_9a4a_11e9_b2c1_c49ded98880frow14_col0\" class=\"data row14 col0\" >83.3%</td>\n",
       "                        <td id=\"T_eb96e99c_9a4a_11e9_b2c1_c49ded98880frow14_col1\" class=\"data row14 col1\" >84.0%</td>\n",
       "                        <td id=\"T_eb96e99c_9a4a_11e9_b2c1_c49ded98880frow14_col2\" class=\"data row14 col2\" >83.8%</td>\n",
       "                        <td id=\"T_eb96e99c_9a4a_11e9_b2c1_c49ded98880frow14_col3\" class=\"data row14 col3\" >83.6%</td>\n",
       "            </tr>\n",
       "    </tbody></table>"
      ],
      "text/plain": [
       "<pandas.io.formats.style.Styler at 0x284f5bf1fd0>"
      ]
     },
     "execution_count": 25,
     "metadata": {},
     "output_type": "execute_result"
    }
   ],
   "source": [
    "math_avg_by_school_df = frosh_math_df.merge(soph_math_df, on = 'School Name')\n",
    "math_avg_by_school_df.rename(columns={\"Math Score_x\": \"9th Grade\", \"Math Score_y\": \"10th Grade\"}, inplace = True)\n",
    "math_avg_by_school_df = math_avg_by_school_df.merge(junior_math_df, on = 'School Name')\n",
    "math_avg_by_school_df.rename(columns={\"Math Score\": \"11th Grade\"}, inplace = True)\n",
    "math_avg_by_school_df = math_avg_by_school_df.merge(senior_math_df, on = 'School Name')\n",
    "math_avg_by_school_df.rename(columns={\"Math Score\": \"12th Grade\"}, inplace = True)\n",
    "math_avg_by_school_df.columns.name = 'Average Math Scores'\n",
    "math_avg_by_school_fin = math_avg_by_school_df.style.format('{:,.1f}%')\n",
    "math_avg_by_school_fin"
   ]
  },
  {
   "cell_type": "code",
   "execution_count": 26,
   "metadata": {},
   "outputs": [],
   "source": [
    "frosh_read = primary_df[primary_df['Grade'] == '9th']\n",
    "frosh_read_df = frosh_read.groupby(['School Name']).mean()\n",
    "frosh_read_df = frosh_read_df['Reading Score'].to_frame()\n",
    "# frosh_read_df"
   ]
  },
  {
   "cell_type": "code",
   "execution_count": 27,
   "metadata": {},
   "outputs": [],
   "source": [
    "soph_read = primary_df[primary_df['Grade'] == '10th']\n",
    "soph_read_df = soph_read.groupby(['School Name']).mean()\n",
    "soph_read_df = soph_read_df['Reading Score'].to_frame()\n",
    "# soph_read_df"
   ]
  },
  {
   "cell_type": "code",
   "execution_count": 28,
   "metadata": {},
   "outputs": [],
   "source": [
    "junior_read = primary_df[primary_df['Grade'] == '11th']\n",
    "junior_read_df = junior_read.groupby(['School Name']).mean()\n",
    "junior_read_df = junior_read_df['Reading Score'].to_frame()\n",
    "# junior_read_df"
   ]
  },
  {
   "cell_type": "code",
   "execution_count": 29,
   "metadata": {},
   "outputs": [],
   "source": [
    "senior_read = primary_df[primary_df['Grade'] == '12th']\n",
    "senior_read_df = senior_read.groupby(['School Name']).mean()\n",
    "senior_read_df = senior_read_df['Reading Score'].to_frame()\n",
    "# senior_read_df"
   ]
  },
  {
   "cell_type": "code",
   "execution_count": 30,
   "metadata": {},
   "outputs": [
    {
     "data": {
      "text/html": [
       "<style  type=\"text/css\" >\n",
       "</style><table id=\"T_ee063f34_9a4a_11e9_8d3d_c49ded98880f\" ><thead>    <tr>        <th class=\"index_name level0\" >Average Math Scores</th>        <th class=\"col_heading level0 col0\" >9th Grade</th>        <th class=\"col_heading level0 col1\" >10th Grade</th>        <th class=\"col_heading level0 col2\" >11th Grade</th>        <th class=\"col_heading level0 col3\" >12th Grade</th>    </tr>    <tr>        <th class=\"index_name level0\" >School Name</th>        <th class=\"blank\" ></th>        <th class=\"blank\" ></th>        <th class=\"blank\" ></th>        <th class=\"blank\" ></th>    </tr></thead><tbody>\n",
       "                <tr>\n",
       "                        <th id=\"T_ee063f34_9a4a_11e9_8d3d_c49ded98880flevel0_row0\" class=\"row_heading level0 row0\" >Bailey High School</th>\n",
       "                        <td id=\"T_ee063f34_9a4a_11e9_8d3d_c49ded98880frow0_col0\" class=\"data row0 col0\" >77.1%</td>\n",
       "                        <td id=\"T_ee063f34_9a4a_11e9_8d3d_c49ded98880frow0_col1\" class=\"data row0 col1\" >77.0%</td>\n",
       "                        <td id=\"T_ee063f34_9a4a_11e9_8d3d_c49ded98880frow0_col2\" class=\"data row0 col2\" >77.5%</td>\n",
       "                        <td id=\"T_ee063f34_9a4a_11e9_8d3d_c49ded98880frow0_col3\" class=\"data row0 col3\" >76.5%</td>\n",
       "            </tr>\n",
       "            <tr>\n",
       "                        <th id=\"T_ee063f34_9a4a_11e9_8d3d_c49ded98880flevel0_row1\" class=\"row_heading level0 row1\" >Cabrera High School</th>\n",
       "                        <td id=\"T_ee063f34_9a4a_11e9_8d3d_c49ded98880frow1_col0\" class=\"data row1 col0\" >83.1%</td>\n",
       "                        <td id=\"T_ee063f34_9a4a_11e9_8d3d_c49ded98880frow1_col1\" class=\"data row1 col1\" >83.2%</td>\n",
       "                        <td id=\"T_ee063f34_9a4a_11e9_8d3d_c49ded98880frow1_col2\" class=\"data row1 col2\" >82.8%</td>\n",
       "                        <td id=\"T_ee063f34_9a4a_11e9_8d3d_c49ded98880frow1_col3\" class=\"data row1 col3\" >83.3%</td>\n",
       "            </tr>\n",
       "            <tr>\n",
       "                        <th id=\"T_ee063f34_9a4a_11e9_8d3d_c49ded98880flevel0_row2\" class=\"row_heading level0 row2\" >Figueroa High School</th>\n",
       "                        <td id=\"T_ee063f34_9a4a_11e9_8d3d_c49ded98880frow2_col0\" class=\"data row2 col0\" >76.4%</td>\n",
       "                        <td id=\"T_ee063f34_9a4a_11e9_8d3d_c49ded98880frow2_col1\" class=\"data row2 col1\" >76.5%</td>\n",
       "                        <td id=\"T_ee063f34_9a4a_11e9_8d3d_c49ded98880frow2_col2\" class=\"data row2 col2\" >76.9%</td>\n",
       "                        <td id=\"T_ee063f34_9a4a_11e9_8d3d_c49ded98880frow2_col3\" class=\"data row2 col3\" >77.2%</td>\n",
       "            </tr>\n",
       "            <tr>\n",
       "                        <th id=\"T_ee063f34_9a4a_11e9_8d3d_c49ded98880flevel0_row3\" class=\"row_heading level0 row3\" >Ford High School</th>\n",
       "                        <td id=\"T_ee063f34_9a4a_11e9_8d3d_c49ded98880frow3_col0\" class=\"data row3 col0\" >77.4%</td>\n",
       "                        <td id=\"T_ee063f34_9a4a_11e9_8d3d_c49ded98880frow3_col1\" class=\"data row3 col1\" >77.7%</td>\n",
       "                        <td id=\"T_ee063f34_9a4a_11e9_8d3d_c49ded98880frow3_col2\" class=\"data row3 col2\" >76.9%</td>\n",
       "                        <td id=\"T_ee063f34_9a4a_11e9_8d3d_c49ded98880frow3_col3\" class=\"data row3 col3\" >76.2%</td>\n",
       "            </tr>\n",
       "            <tr>\n",
       "                        <th id=\"T_ee063f34_9a4a_11e9_8d3d_c49ded98880flevel0_row4\" class=\"row_heading level0 row4\" >Griffin High School</th>\n",
       "                        <td id=\"T_ee063f34_9a4a_11e9_8d3d_c49ded98880frow4_col0\" class=\"data row4 col0\" >82.0%</td>\n",
       "                        <td id=\"T_ee063f34_9a4a_11e9_8d3d_c49ded98880frow4_col1\" class=\"data row4 col1\" >84.2%</td>\n",
       "                        <td id=\"T_ee063f34_9a4a_11e9_8d3d_c49ded98880frow4_col2\" class=\"data row4 col2\" >83.8%</td>\n",
       "                        <td id=\"T_ee063f34_9a4a_11e9_8d3d_c49ded98880frow4_col3\" class=\"data row4 col3\" >83.4%</td>\n",
       "            </tr>\n",
       "            <tr>\n",
       "                        <th id=\"T_ee063f34_9a4a_11e9_8d3d_c49ded98880flevel0_row5\" class=\"row_heading level0 row5\" >Hernandez High School</th>\n",
       "                        <td id=\"T_ee063f34_9a4a_11e9_8d3d_c49ded98880frow5_col0\" class=\"data row5 col0\" >77.4%</td>\n",
       "                        <td id=\"T_ee063f34_9a4a_11e9_8d3d_c49ded98880frow5_col1\" class=\"data row5 col1\" >77.3%</td>\n",
       "                        <td id=\"T_ee063f34_9a4a_11e9_8d3d_c49ded98880frow5_col2\" class=\"data row5 col2\" >77.1%</td>\n",
       "                        <td id=\"T_ee063f34_9a4a_11e9_8d3d_c49ded98880frow5_col3\" class=\"data row5 col3\" >77.2%</td>\n",
       "            </tr>\n",
       "            <tr>\n",
       "                        <th id=\"T_ee063f34_9a4a_11e9_8d3d_c49ded98880flevel0_row6\" class=\"row_heading level0 row6\" >Holden High School</th>\n",
       "                        <td id=\"T_ee063f34_9a4a_11e9_8d3d_c49ded98880frow6_col0\" class=\"data row6 col0\" >83.8%</td>\n",
       "                        <td id=\"T_ee063f34_9a4a_11e9_8d3d_c49ded98880frow6_col1\" class=\"data row6 col1\" >83.4%</td>\n",
       "                        <td id=\"T_ee063f34_9a4a_11e9_8d3d_c49ded98880frow6_col2\" class=\"data row6 col2\" >85.0%</td>\n",
       "                        <td id=\"T_ee063f34_9a4a_11e9_8d3d_c49ded98880frow6_col3\" class=\"data row6 col3\" >82.9%</td>\n",
       "            </tr>\n",
       "            <tr>\n",
       "                        <th id=\"T_ee063f34_9a4a_11e9_8d3d_c49ded98880flevel0_row7\" class=\"row_heading level0 row7\" >Huang High School</th>\n",
       "                        <td id=\"T_ee063f34_9a4a_11e9_8d3d_c49ded98880frow7_col0\" class=\"data row7 col0\" >77.0%</td>\n",
       "                        <td id=\"T_ee063f34_9a4a_11e9_8d3d_c49ded98880frow7_col1\" class=\"data row7 col1\" >75.9%</td>\n",
       "                        <td id=\"T_ee063f34_9a4a_11e9_8d3d_c49ded98880frow7_col2\" class=\"data row7 col2\" >76.4%</td>\n",
       "                        <td id=\"T_ee063f34_9a4a_11e9_8d3d_c49ded98880frow7_col3\" class=\"data row7 col3\" >77.2%</td>\n",
       "            </tr>\n",
       "            <tr>\n",
       "                        <th id=\"T_ee063f34_9a4a_11e9_8d3d_c49ded98880flevel0_row8\" class=\"row_heading level0 row8\" >Johnson High School</th>\n",
       "                        <td id=\"T_ee063f34_9a4a_11e9_8d3d_c49ded98880frow8_col0\" class=\"data row8 col0\" >77.2%</td>\n",
       "                        <td id=\"T_ee063f34_9a4a_11e9_8d3d_c49ded98880frow8_col1\" class=\"data row8 col1\" >76.7%</td>\n",
       "                        <td id=\"T_ee063f34_9a4a_11e9_8d3d_c49ded98880frow8_col2\" class=\"data row8 col2\" >77.5%</td>\n",
       "                        <td id=\"T_ee063f34_9a4a_11e9_8d3d_c49ded98880frow8_col3\" class=\"data row8 col3\" >76.9%</td>\n",
       "            </tr>\n",
       "            <tr>\n",
       "                        <th id=\"T_ee063f34_9a4a_11e9_8d3d_c49ded98880flevel0_row9\" class=\"row_heading level0 row9\" >Pena High School</th>\n",
       "                        <td id=\"T_ee063f34_9a4a_11e9_8d3d_c49ded98880frow9_col0\" class=\"data row9 col0\" >83.6%</td>\n",
       "                        <td id=\"T_ee063f34_9a4a_11e9_8d3d_c49ded98880frow9_col1\" class=\"data row9 col1\" >83.4%</td>\n",
       "                        <td id=\"T_ee063f34_9a4a_11e9_8d3d_c49ded98880frow9_col2\" class=\"data row9 col2\" >84.3%</td>\n",
       "                        <td id=\"T_ee063f34_9a4a_11e9_8d3d_c49ded98880frow9_col3\" class=\"data row9 col3\" >84.1%</td>\n",
       "            </tr>\n",
       "            <tr>\n",
       "                        <th id=\"T_ee063f34_9a4a_11e9_8d3d_c49ded98880flevel0_row10\" class=\"row_heading level0 row10\" >Rodriguez High School</th>\n",
       "                        <td id=\"T_ee063f34_9a4a_11e9_8d3d_c49ded98880frow10_col0\" class=\"data row10 col0\" >76.9%</td>\n",
       "                        <td id=\"T_ee063f34_9a4a_11e9_8d3d_c49ded98880frow10_col1\" class=\"data row10 col1\" >76.6%</td>\n",
       "                        <td id=\"T_ee063f34_9a4a_11e9_8d3d_c49ded98880frow10_col2\" class=\"data row10 col2\" >76.4%</td>\n",
       "                        <td id=\"T_ee063f34_9a4a_11e9_8d3d_c49ded98880frow10_col3\" class=\"data row10 col3\" >77.7%</td>\n",
       "            </tr>\n",
       "            <tr>\n",
       "                        <th id=\"T_ee063f34_9a4a_11e9_8d3d_c49ded98880flevel0_row11\" class=\"row_heading level0 row11\" >Shelton High School</th>\n",
       "                        <td id=\"T_ee063f34_9a4a_11e9_8d3d_c49ded98880frow11_col0\" class=\"data row11 col0\" >83.4%</td>\n",
       "                        <td id=\"T_ee063f34_9a4a_11e9_8d3d_c49ded98880frow11_col1\" class=\"data row11 col1\" >82.9%</td>\n",
       "                        <td id=\"T_ee063f34_9a4a_11e9_8d3d_c49ded98880frow11_col2\" class=\"data row11 col2\" >83.4%</td>\n",
       "                        <td id=\"T_ee063f34_9a4a_11e9_8d3d_c49ded98880frow11_col3\" class=\"data row11 col3\" >83.8%</td>\n",
       "            </tr>\n",
       "            <tr>\n",
       "                        <th id=\"T_ee063f34_9a4a_11e9_8d3d_c49ded98880flevel0_row12\" class=\"row_heading level0 row12\" >Thomas High School</th>\n",
       "                        <td id=\"T_ee063f34_9a4a_11e9_8d3d_c49ded98880frow12_col0\" class=\"data row12 col0\" >83.6%</td>\n",
       "                        <td id=\"T_ee063f34_9a4a_11e9_8d3d_c49ded98880frow12_col1\" class=\"data row12 col1\" >83.1%</td>\n",
       "                        <td id=\"T_ee063f34_9a4a_11e9_8d3d_c49ded98880frow12_col2\" class=\"data row12 col2\" >83.5%</td>\n",
       "                        <td id=\"T_ee063f34_9a4a_11e9_8d3d_c49ded98880frow12_col3\" class=\"data row12 col3\" >83.5%</td>\n",
       "            </tr>\n",
       "            <tr>\n",
       "                        <th id=\"T_ee063f34_9a4a_11e9_8d3d_c49ded98880flevel0_row13\" class=\"row_heading level0 row13\" >Wilson High School</th>\n",
       "                        <td id=\"T_ee063f34_9a4a_11e9_8d3d_c49ded98880frow13_col0\" class=\"data row13 col0\" >83.1%</td>\n",
       "                        <td id=\"T_ee063f34_9a4a_11e9_8d3d_c49ded98880frow13_col1\" class=\"data row13 col1\" >83.7%</td>\n",
       "                        <td id=\"T_ee063f34_9a4a_11e9_8d3d_c49ded98880frow13_col2\" class=\"data row13 col2\" >83.2%</td>\n",
       "                        <td id=\"T_ee063f34_9a4a_11e9_8d3d_c49ded98880frow13_col3\" class=\"data row13 col3\" >83.0%</td>\n",
       "            </tr>\n",
       "            <tr>\n",
       "                        <th id=\"T_ee063f34_9a4a_11e9_8d3d_c49ded98880flevel0_row14\" class=\"row_heading level0 row14\" >Wright High School</th>\n",
       "                        <td id=\"T_ee063f34_9a4a_11e9_8d3d_c49ded98880frow14_col0\" class=\"data row14 col0\" >83.3%</td>\n",
       "                        <td id=\"T_ee063f34_9a4a_11e9_8d3d_c49ded98880frow14_col1\" class=\"data row14 col1\" >84.0%</td>\n",
       "                        <td id=\"T_ee063f34_9a4a_11e9_8d3d_c49ded98880frow14_col2\" class=\"data row14 col2\" >83.8%</td>\n",
       "                        <td id=\"T_ee063f34_9a4a_11e9_8d3d_c49ded98880frow14_col3\" class=\"data row14 col3\" >83.6%</td>\n",
       "            </tr>\n",
       "    </tbody></table>"
      ],
      "text/plain": [
       "<pandas.io.formats.style.Styler at 0x284f5bfbbe0>"
      ]
     },
     "execution_count": 30,
     "metadata": {},
     "output_type": "execute_result"
    }
   ],
   "source": [
    "read_avg_by_school_df = frosh_read_df.merge(soph_read_df, on = 'School Name')\n",
    "read_avg_by_school_df.rename(columns={\"Reading Score_x\": \"9th Grade\", \"Reading Score_y\": \"10th Grade\"}, inplace = True)\n",
    "read_avg_by_school_df = read_avg_by_school_df.merge(junior_read_df, on = 'School Name')\n",
    "read_avg_by_school_df.rename(columns={\"Reading Score\": \"11th Grade\"}, inplace = True)\n",
    "read_avg_by_school_df = read_avg_by_school_df.merge(senior_read_df, on = 'School Name')\n",
    "read_avg_by_school_df.rename(columns={\"Reading Score\": \"12th Grade\"}, inplace = True)\n",
    "read_avg_by_school_df.columns.name = 'Average Reading Scores'\n",
    "read_avg_by_school_fin = math_avg_by_school_df.style.format('{:,.1f}%')\n",
    "read_avg_by_school_fin"
   ]
  },
  {
   "cell_type": "code",
   "execution_count": 31,
   "metadata": {},
   "outputs": [
    {
     "data": {
      "text/html": [
       "<style  type=\"text/css\" >\n",
       "</style><table id=\"T_efab2e08_9a4a_11e9_aa2d_c49ded98880f\" ><thead>    <tr>        <th class=\"index_name level0\" >SUMMARY</th>        <th class=\"col_heading level0 col0\" >Average Math Score</th>        <th class=\"col_heading level0 col1\" >Average Reading Score</th>        <th class=\"col_heading level0 col2\" >% Passing Math</th>        <th class=\"col_heading level0 col3\" >% Passing Reading</th>        <th class=\"col_heading level0 col4\" >Overall Pass Rate</th>    </tr>    <tr>        <th class=\"index_name level0\" >Budget per Student</th>        <th class=\"blank\" ></th>        <th class=\"blank\" ></th>        <th class=\"blank\" ></th>        <th class=\"blank\" ></th>        <th class=\"blank\" ></th>    </tr></thead><tbody>\n",
       "                <tr>\n",
       "                        <th id=\"T_efab2e08_9a4a_11e9_aa2d_c49ded98880flevel0_row0\" class=\"row_heading level0 row0\" >< $595</th>\n",
       "                        <td id=\"T_efab2e08_9a4a_11e9_aa2d_c49ded98880frow0_col0\" class=\"data row0 col0\" >83.5%</td>\n",
       "                        <td id=\"T_efab2e08_9a4a_11e9_aa2d_c49ded98880frow0_col1\" class=\"data row0 col1\" >83.9%</td>\n",
       "                        <td id=\"T_efab2e08_9a4a_11e9_aa2d_c49ded98880frow0_col2\" class=\"data row0 col2\" >93.5%</td>\n",
       "                        <td id=\"T_efab2e08_9a4a_11e9_aa2d_c49ded98880frow0_col3\" class=\"data row0 col3\" >96.6%</td>\n",
       "                        <td id=\"T_efab2e08_9a4a_11e9_aa2d_c49ded98880frow0_col4\" class=\"data row0 col4\" >95.0%</td>\n",
       "            </tr>\n",
       "            <tr>\n",
       "                        <th id=\"T_efab2e08_9a4a_11e9_aa2d_c49ded98880flevel0_row1\" class=\"row_heading level0 row1\" >$595 - $615</th>\n",
       "                        <td id=\"T_efab2e08_9a4a_11e9_aa2d_c49ded98880frow1_col0\" class=\"data row1 col0\" >83.6%</td>\n",
       "                        <td id=\"T_efab2e08_9a4a_11e9_aa2d_c49ded98880frow1_col1\" class=\"data row1 col1\" >83.9%</td>\n",
       "                        <td id=\"T_efab2e08_9a4a_11e9_aa2d_c49ded98880frow1_col2\" class=\"data row1 col2\" >94.2%</td>\n",
       "                        <td id=\"T_efab2e08_9a4a_11e9_aa2d_c49ded98880frow1_col3\" class=\"data row1 col3\" >95.9%</td>\n",
       "                        <td id=\"T_efab2e08_9a4a_11e9_aa2d_c49ded98880frow1_col4\" class=\"data row1 col4\" >95.1%</td>\n",
       "            </tr>\n",
       "            <tr>\n",
       "                        <th id=\"T_efab2e08_9a4a_11e9_aa2d_c49ded98880flevel0_row2\" class=\"row_heading level0 row2\" >$615 - $635</th>\n",
       "                        <td id=\"T_efab2e08_9a4a_11e9_aa2d_c49ded98880frow2_col0\" class=\"data row2 col0\" >80.2%</td>\n",
       "                        <td id=\"T_efab2e08_9a4a_11e9_aa2d_c49ded98880frow2_col1\" class=\"data row2 col1\" >82.4%</td>\n",
       "                        <td id=\"T_efab2e08_9a4a_11e9_aa2d_c49ded98880frow2_col2\" class=\"data row2 col2\" >80.0%</td>\n",
       "                        <td id=\"T_efab2e08_9a4a_11e9_aa2d_c49ded98880frow2_col3\" class=\"data row2 col3\" >89.5%</td>\n",
       "                        <td id=\"T_efab2e08_9a4a_11e9_aa2d_c49ded98880frow2_col4\" class=\"data row2 col4\" >84.8%</td>\n",
       "            </tr>\n",
       "            <tr>\n",
       "                        <th id=\"T_efab2e08_9a4a_11e9_aa2d_c49ded98880flevel0_row3\" class=\"row_heading level0 row3\" > $635+</th>\n",
       "                        <td id=\"T_efab2e08_9a4a_11e9_aa2d_c49ded98880frow3_col0\" class=\"data row3 col0\" >77.9%</td>\n",
       "                        <td id=\"T_efab2e08_9a4a_11e9_aa2d_c49ded98880frow3_col1\" class=\"data row3 col1\" >81.4%</td>\n",
       "                        <td id=\"T_efab2e08_9a4a_11e9_aa2d_c49ded98880frow3_col2\" class=\"data row3 col2\" >70.3%</td>\n",
       "                        <td id=\"T_efab2e08_9a4a_11e9_aa2d_c49ded98880frow3_col3\" class=\"data row3 col3\" >83.0%</td>\n",
       "                        <td id=\"T_efab2e08_9a4a_11e9_aa2d_c49ded98880frow3_col4\" class=\"data row3 col4\" >76.7%</td>\n",
       "            </tr>\n",
       "    </tbody></table>"
      ],
      "text/plain": [
       "<pandas.io.formats.style.Styler at 0x284f24cf6d8>"
      ]
     },
     "execution_count": 31,
     "metadata": {},
     "output_type": "execute_result"
    }
   ],
   "source": [
    "budget_bounds = [0, 595, 615, 635, 655]\n",
    "budget_labels = ['< $595', '$595 - $615', '$615 - $635', ' $635+']\n",
    "per_student_budget_df = by_school_summary_df.reset_index(inplace = False)\n",
    "per_student_budget_df['Budget per Student'] = (\n",
    "    pd.cut(per_student_budget_df['Per Student Budget'], budget_bounds, labels = budget_labels))\n",
    "grp_by_student_budget_df = per_student_budget_df.groupby('Budget per Student').mean()\n",
    "grp_by_student_budget_df = (\n",
    "    grp_by_student_budget_df.drop(columns = ['Total Students', 'Total School Budget', 'Per Student Budget']))\n",
    "grp_by_student_budget_fin = grp_by_student_budget_df.style.format('{:,.1f}%')\n",
    "grp_by_student_budget_fin\n",
    "##formatting in Budget per Student index column???"
   ]
  },
  {
   "cell_type": "code",
   "execution_count": 32,
   "metadata": {},
   "outputs": [
    {
     "data": {
      "text/html": [
       "<style  type=\"text/css\" >\n",
       "</style><table id=\"T_f0bea0d4_9a4a_11e9_b5ca_c49ded98880f\" ><thead>    <tr>        <th class=\"index_name level0\" >SUMMARY</th>        <th class=\"col_heading level0 col0\" >Average Math Score</th>        <th class=\"col_heading level0 col1\" >Average Reading Score</th>        <th class=\"col_heading level0 col2\" >% Passing Math</th>        <th class=\"col_heading level0 col3\" >% Passing Reading</th>        <th class=\"col_heading level0 col4\" >Overall Pass Rate</th>    </tr>    <tr>        <th class=\"index_name level0\" >School Size (Students)</th>        <th class=\"blank\" ></th>        <th class=\"blank\" ></th>        <th class=\"blank\" ></th>        <th class=\"blank\" ></th>        <th class=\"blank\" ></th>    </tr></thead><tbody>\n",
       "                <tr>\n",
       "                        <th id=\"T_f0bea0d4_9a4a_11e9_b5ca_c49ded98880flevel0_row0\" class=\"row_heading level0 row0\" >Small (<1500)</th>\n",
       "                        <td id=\"T_f0bea0d4_9a4a_11e9_b5ca_c49ded98880frow0_col0\" class=\"data row0 col0\" >83.7%</td>\n",
       "                        <td id=\"T_f0bea0d4_9a4a_11e9_b5ca_c49ded98880frow0_col1\" class=\"data row0 col1\" >83.9%</td>\n",
       "                        <td id=\"T_f0bea0d4_9a4a_11e9_b5ca_c49ded98880frow0_col2\" class=\"data row0 col2\" >93.5%</td>\n",
       "                        <td id=\"T_f0bea0d4_9a4a_11e9_b5ca_c49ded98880frow0_col3\" class=\"data row0 col3\" >96.4%</td>\n",
       "                        <td id=\"T_f0bea0d4_9a4a_11e9_b5ca_c49ded98880frow0_col4\" class=\"data row0 col4\" >95.0%</td>\n",
       "            </tr>\n",
       "            <tr>\n",
       "                        <th id=\"T_f0bea0d4_9a4a_11e9_b5ca_c49ded98880flevel0_row1\" class=\"row_heading level0 row1\" >Medium (1500-3000)</th>\n",
       "                        <td id=\"T_f0bea0d4_9a4a_11e9_b5ca_c49ded98880frow1_col0\" class=\"data row1 col0\" >80.9%</td>\n",
       "                        <td id=\"T_f0bea0d4_9a4a_11e9_b5ca_c49ded98880frow1_col1\" class=\"data row1 col1\" >82.8%</td>\n",
       "                        <td id=\"T_f0bea0d4_9a4a_11e9_b5ca_c49ded98880frow1_col2\" class=\"data row1 col2\" >83.6%</td>\n",
       "                        <td id=\"T_f0bea0d4_9a4a_11e9_b5ca_c49ded98880frow1_col3\" class=\"data row1 col3\" >90.6%</td>\n",
       "                        <td id=\"T_f0bea0d4_9a4a_11e9_b5ca_c49ded98880frow1_col4\" class=\"data row1 col4\" >87.1%</td>\n",
       "            </tr>\n",
       "            <tr>\n",
       "                        <th id=\"T_f0bea0d4_9a4a_11e9_b5ca_c49ded98880flevel0_row2\" class=\"row_heading level0 row2\" >Large (3000+)</th>\n",
       "                        <td id=\"T_f0bea0d4_9a4a_11e9_b5ca_c49ded98880frow2_col0\" class=\"data row2 col0\" >77.1%</td>\n",
       "                        <td id=\"T_f0bea0d4_9a4a_11e9_b5ca_c49ded98880frow2_col1\" class=\"data row2 col1\" >80.9%</td>\n",
       "                        <td id=\"T_f0bea0d4_9a4a_11e9_b5ca_c49ded98880frow2_col2\" class=\"data row2 col2\" >66.5%</td>\n",
       "                        <td id=\"T_f0bea0d4_9a4a_11e9_b5ca_c49ded98880frow2_col3\" class=\"data row2 col3\" >81.1%</td>\n",
       "                        <td id=\"T_f0bea0d4_9a4a_11e9_b5ca_c49ded98880frow2_col4\" class=\"data row2 col4\" >73.8%</td>\n",
       "            </tr>\n",
       "    </tbody></table>"
      ],
      "text/plain": [
       "<pandas.io.formats.style.Styler at 0x284f5c10d68>"
      ]
     },
     "execution_count": 32,
     "metadata": {},
     "output_type": "execute_result"
    }
   ],
   "source": [
    "school_size_bounds = [0, 1500, 3000, 5500]\n",
    "school_size_labels = ['Small (<1500)', 'Medium (1500-3000)', 'Large (3000+)']\n",
    "per_school_size_df = by_school_summary_df.reset_index(inplace = False)\n",
    "per_school_size_df['School Size (Students)'] = (\n",
    "    pd.cut(per_school_size_df['Total Students'], school_size_bounds, labels = school_size_labels))\n",
    "grp_per_school_size_df = per_school_size_df.groupby('School Size (Students)').mean()\n",
    "grp_per_school_size_df = (\n",
    "    grp_per_school_size_df.drop(columns = ['Total Students', 'Total School Budget', 'Per Student Budget']))\n",
    "grp_per_school_size_fin = grp_per_school_size_df.style.format('{:,.1f}%')\n",
    "grp_per_school_size_fin"
   ]
  },
  {
   "cell_type": "code",
   "execution_count": 33,
   "metadata": {},
   "outputs": [],
   "source": [
    "district_df = pd.DataFrame(by_school_summary_df[by_school_summary_df['School Type'] == 'District'])\n",
    "# district_df.head()"
   ]
  },
  {
   "cell_type": "code",
   "execution_count": 34,
   "metadata": {},
   "outputs": [],
   "source": [
    "district_df.reset_index(inplace = True)\n",
    "district_df_clean = (\n",
    "    district_df.drop(columns = ['School Name', 'Total Students', 'Total School Budget', 'Per Student Budget']))\n",
    "district_summary_fin = pd.DataFrame(district_df_clean.mean()).transpose()\n",
    "district_summary_fin['School Type'] = 'District'\n",
    "# district_summary_fin"
   ]
  },
  {
   "cell_type": "code",
   "execution_count": 35,
   "metadata": {},
   "outputs": [],
   "source": [
    "charter_df = pd.DataFrame(by_school_summary_df[by_school_summary_df['School Type'] == 'Charter'])\n",
    "# charter_df.head()"
   ]
  },
  {
   "cell_type": "code",
   "execution_count": 36,
   "metadata": {},
   "outputs": [],
   "source": [
    "charter_df.reset_index(inplace = True)\n",
    "charter_df_clean = (\n",
    "    charter_df.drop(columns = ['School Name', 'Total Students', 'Total School Budget', 'Per Student Budget']))\n",
    "charter_summary_fin = pd.DataFrame(charter_df_clean.mean()).transpose()\n",
    "charter_summary_fin['School Type'] = 'Charter'\n",
    "# charter_summary_fin"
   ]
  },
  {
   "cell_type": "code",
   "execution_count": 37,
   "metadata": {},
   "outputs": [
    {
     "data": {
      "text/html": [
       "<style  type=\"text/css\" >\n",
       "</style><table id=\"T_f32ff0ba_9a4a_11e9_86b0_c49ded98880f\" ><thead>    <tr>        <th class=\"index_name level0\" >SUMMARY</th>        <th class=\"col_heading level0 col0\" >Average Math Score</th>        <th class=\"col_heading level0 col1\" >Average Reading Score</th>        <th class=\"col_heading level0 col2\" >% Passing Math</th>        <th class=\"col_heading level0 col3\" >% Passing Reading</th>        <th class=\"col_heading level0 col4\" >Overall Pass Rate</th>    </tr>    <tr>        <th class=\"index_name level0\" >School Type</th>        <th class=\"blank\" ></th>        <th class=\"blank\" ></th>        <th class=\"blank\" ></th>        <th class=\"blank\" ></th>        <th class=\"blank\" ></th>    </tr></thead><tbody>\n",
       "                <tr>\n",
       "                        <th id=\"T_f32ff0ba_9a4a_11e9_86b0_c49ded98880flevel0_row0\" class=\"row_heading level0 row0\" >Charter</th>\n",
       "                        <td id=\"T_f32ff0ba_9a4a_11e9_86b0_c49ded98880frow0_col0\" class=\"data row0 col0\" >83.5%</td>\n",
       "                        <td id=\"T_f32ff0ba_9a4a_11e9_86b0_c49ded98880frow0_col1\" class=\"data row0 col1\" >83.9%</td>\n",
       "                        <td id=\"T_f32ff0ba_9a4a_11e9_86b0_c49ded98880frow0_col2\" class=\"data row0 col2\" >93.6%</td>\n",
       "                        <td id=\"T_f32ff0ba_9a4a_11e9_86b0_c49ded98880frow0_col3\" class=\"data row0 col3\" >96.6%</td>\n",
       "                        <td id=\"T_f32ff0ba_9a4a_11e9_86b0_c49ded98880frow0_col4\" class=\"data row0 col4\" >95.1%</td>\n",
       "            </tr>\n",
       "            <tr>\n",
       "                        <th id=\"T_f32ff0ba_9a4a_11e9_86b0_c49ded98880flevel0_row1\" class=\"row_heading level0 row1\" >District</th>\n",
       "                        <td id=\"T_f32ff0ba_9a4a_11e9_86b0_c49ded98880frow1_col0\" class=\"data row1 col0\" >77.0%</td>\n",
       "                        <td id=\"T_f32ff0ba_9a4a_11e9_86b0_c49ded98880frow1_col1\" class=\"data row1 col1\" >81.0%</td>\n",
       "                        <td id=\"T_f32ff0ba_9a4a_11e9_86b0_c49ded98880frow1_col2\" class=\"data row1 col2\" >66.5%</td>\n",
       "                        <td id=\"T_f32ff0ba_9a4a_11e9_86b0_c49ded98880frow1_col3\" class=\"data row1 col3\" >80.8%</td>\n",
       "                        <td id=\"T_f32ff0ba_9a4a_11e9_86b0_c49ded98880frow1_col4\" class=\"data row1 col4\" >73.7%</td>\n",
       "            </tr>\n",
       "    </tbody></table>"
      ],
      "text/plain": [
       "<pandas.io.formats.style.Styler at 0x284f4798898>"
      ]
     },
     "execution_count": 37,
     "metadata": {},
     "output_type": "execute_result"
    }
   ],
   "source": [
    "school_type_summary_df = charter_summary_fin.merge(district_summary_fin, how = 'outer')\n",
    "school_type_summary_df = school_type_summary_df.set_index('School Type')\n",
    "school_type_summary_fin = school_type_summary_df.style.format('{:,.1f}%')\n",
    "school_type_summary_fin"
   ]
  },
  {
   "cell_type": "code",
   "execution_count": null,
   "metadata": {},
   "outputs": [],
   "source": []
  }
 ],
 "metadata": {
  "kernelspec": {
   "display_name": "Python 3",
   "language": "python",
   "name": "python3"
  },
  "language_info": {
   "codemirror_mode": {
    "name": "ipython",
    "version": 3
   },
   "file_extension": ".py",
   "mimetype": "text/x-python",
   "name": "python",
   "nbconvert_exporter": "python",
   "pygments_lexer": "ipython3",
   "version": "3.7.3"
  }
 },
 "nbformat": 4,
 "nbformat_minor": 2
}
